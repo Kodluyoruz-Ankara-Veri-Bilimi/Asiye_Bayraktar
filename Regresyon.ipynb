{
 "cells": [
  {
   "cell_type": "code",
   "execution_count": 1,
   "metadata": {},
   "outputs": [
    {
     "name": "stdout",
     "output_type": "stream",
     "text": [
      "importing Jupyter notebook from Classes.ipynb\n"
     ]
    },
    {
     "name": "stderr",
     "output_type": "stream",
     "text": [
      "C:\\Users\\Asiye\\Anaconda3\\lib\\site-packages\\sklearn\\externals\\six.py:31: DeprecationWarning: The module is deprecated in version 0.21 and will be removed in version 0.23 since we've dropped support for Python 2.7. Please rely on the official version of six (https://pypi.org/project/six/).\n",
      "  \"(https://pypi.org/project/six/).\", DeprecationWarning)\n"
     ]
    }
   ],
   "source": [
    "import pandas as pd\n",
    "import numpy as np\n",
    "import import_ipynb\n",
    "import Classes \n",
    "\n",
    "\n",
    "# Visualize\n",
    "\n",
    "import matplotlib.pyplot as plt\n",
    "from termcolor import colored\n",
    "from sklearn.tree import export_graphviz\n",
    "from sklearn.externals.six import StringIO  \n",
    "from IPython.display import Image  \n",
    "import pydotplus\n",
    "import seaborn as sns\n",
    "from mpl_toolkits.mplot3d import Axes3D\n",
    "\n",
    "\n",
    "from sklearn import metrics\n",
    "from sklearn.model_selection import train_test_split, GridSearchCV, cross_val_score\n",
    "from sklearn.metrics import classification_report, confusion_matrix, accuracy_score\n",
    "from sklearn.preprocessing import StandardScaler\n",
    "from sklearn.model_selection import RandomizedSearchCV\n",
    "from sklearn.metrics import mean_squared_error\n",
    "from imblearn.over_sampling import SMOTE\n",
    "import statsmodels.api as sm\n",
    "from scipy import stats\n",
    "from scipy.stats import shapiro\n",
    "\n",
    "\n",
    "#Classification Algorithms\n",
    "\n",
    "from sklearn.linear_model import LogisticRegression\n",
    "from sklearn.tree import DecisionTreeClassifier\n",
    "from sklearn.ensemble import RandomForestClassifier\n",
    "from sklearn.neural_network import MLPClassifier\n",
    "from sklearn.svm import SVC\n",
    "from sklearn.naive_bayes import GaussianNB, MultinomialNB, BernoulliNB\n",
    "from sklearn.neighbors import KNeighborsClassifier\n",
    "\n",
    "# Regression Algorithms\n",
    "\n",
    "from sklearn.linear_model import LinearRegression\n",
    "from sklearn.tree import DecisionTreeRegressor\n",
    "from sklearn.ensemble import RandomForestRegressor\n",
    "from sklearn.neural_network import MLPRegressor\n",
    "from sklearn.svm import SVR\n",
    "from sklearn.neighbors import KNeighborsRegressor\n",
    "\n",
    "from sklearn.cluster import KMeans\n",
    "\n",
    "\n"
   ]
  },
  {
   "cell_type": "code",
   "execution_count": 2,
   "metadata": {},
   "outputs": [
    {
     "data": {
      "text/html": [
       "<div>\n",
       "<style scoped>\n",
       "    .dataframe tbody tr th:only-of-type {\n",
       "        vertical-align: middle;\n",
       "    }\n",
       "\n",
       "    .dataframe tbody tr th {\n",
       "        vertical-align: top;\n",
       "    }\n",
       "\n",
       "    .dataframe thead th {\n",
       "        text-align: right;\n",
       "    }\n",
       "</style>\n",
       "<table border=\"1\" class=\"dataframe\">\n",
       "  <thead>\n",
       "    <tr style=\"text-align: right;\">\n",
       "      <th></th>\n",
       "      <th>ind_5</th>\n",
       "      <th>ind_6</th>\n",
       "      <th>ind_8</th>\n",
       "      <th>ind_9</th>\n",
       "      <th>ind_10</th>\n",
       "      <th>ind_12</th>\n",
       "      <th>ind_13</th>\n",
       "      <th>ind_14</th>\n",
       "      <th>ind_15</th>\n",
       "      <th>ind_16</th>\n",
       "      <th>...</th>\n",
       "      <th>ind_416</th>\n",
       "      <th>ind_418</th>\n",
       "      <th>ind_420</th>\n",
       "      <th>ind_422</th>\n",
       "      <th>ind_424</th>\n",
       "      <th>ind_426</th>\n",
       "      <th>ind_428</th>\n",
       "      <th>20_target</th>\n",
       "      <th>50_target</th>\n",
       "      <th>90_target</th>\n",
       "    </tr>\n",
       "  </thead>\n",
       "  <tbody>\n",
       "    <tr>\n",
       "      <td>0</td>\n",
       "      <td>19</td>\n",
       "      <td>17</td>\n",
       "      <td>100.0</td>\n",
       "      <td>85.714286</td>\n",
       "      <td>14.285714</td>\n",
       "      <td>72.363515</td>\n",
       "      <td>60.808814</td>\n",
       "      <td>23.80</td>\n",
       "      <td>17.62</td>\n",
       "      <td>11.73</td>\n",
       "      <td>...</td>\n",
       "      <td>-49.6</td>\n",
       "      <td>-54</td>\n",
       "      <td>-152</td>\n",
       "      <td>-353</td>\n",
       "      <td>1.0</td>\n",
       "      <td>0.498547</td>\n",
       "      <td>0.701906</td>\n",
       "      <td>15.135802</td>\n",
       "      <td>35.625252</td>\n",
       "      <td>36.997753</td>\n",
       "    </tr>\n",
       "    <tr>\n",
       "      <td>1</td>\n",
       "      <td>24</td>\n",
       "      <td>19</td>\n",
       "      <td>100.0</td>\n",
       "      <td>78.571429</td>\n",
       "      <td>21.428571</td>\n",
       "      <td>74.275883</td>\n",
       "      <td>64.366798</td>\n",
       "      <td>11.45</td>\n",
       "      <td>18.16</td>\n",
       "      <td>12.22</td>\n",
       "      <td>...</td>\n",
       "      <td>-55.6</td>\n",
       "      <td>-60</td>\n",
       "      <td>-158</td>\n",
       "      <td>-359</td>\n",
       "      <td>1.0</td>\n",
       "      <td>0.537088</td>\n",
       "      <td>0.690833</td>\n",
       "      <td>15.143348</td>\n",
       "      <td>35.643013</td>\n",
       "      <td>37.016198</td>\n",
       "    </tr>\n",
       "    <tr>\n",
       "      <td>2</td>\n",
       "      <td>30</td>\n",
       "      <td>24</td>\n",
       "      <td>100.0</td>\n",
       "      <td>71.428571</td>\n",
       "      <td>28.571429</td>\n",
       "      <td>75.140402</td>\n",
       "      <td>65.915803</td>\n",
       "      <td>8.75</td>\n",
       "      <td>17.86</td>\n",
       "      <td>12.28</td>\n",
       "      <td>...</td>\n",
       "      <td>-58.4</td>\n",
       "      <td>-60</td>\n",
       "      <td>-160</td>\n",
       "      <td>-362</td>\n",
       "      <td>1.0</td>\n",
       "      <td>0.615169</td>\n",
       "      <td>0.693040</td>\n",
       "      <td>15.146870</td>\n",
       "      <td>35.651301</td>\n",
       "      <td>-37.024805</td>\n",
       "    </tr>\n",
       "    <tr>\n",
       "      <td>3</td>\n",
       "      <td>37</td>\n",
       "      <td>30</td>\n",
       "      <td>100.0</td>\n",
       "      <td>64.285714</td>\n",
       "      <td>35.714286</td>\n",
       "      <td>76.677846</td>\n",
       "      <td>68.584234</td>\n",
       "      <td>7.80</td>\n",
       "      <td>14.76</td>\n",
       "      <td>12.61</td>\n",
       "      <td>...</td>\n",
       "      <td>-61.8</td>\n",
       "      <td>-65</td>\n",
       "      <td>-166</td>\n",
       "      <td>-367</td>\n",
       "      <td>1.0</td>\n",
       "      <td>0.661517</td>\n",
       "      <td>0.673418</td>\n",
       "      <td>15.153283</td>\n",
       "      <td>0.000000</td>\n",
       "      <td>-37.040483</td>\n",
       "    </tr>\n",
       "    <tr>\n",
       "      <td>4</td>\n",
       "      <td>41</td>\n",
       "      <td>37</td>\n",
       "      <td>100.0</td>\n",
       "      <td>57.142857</td>\n",
       "      <td>42.857143</td>\n",
       "      <td>81.603007</td>\n",
       "      <td>76.455495</td>\n",
       "      <td>14.90</td>\n",
       "      <td>11.92</td>\n",
       "      <td>14.25</td>\n",
       "      <td>...</td>\n",
       "      <td>-79.8</td>\n",
       "      <td>-86</td>\n",
       "      <td>-186</td>\n",
       "      <td>-388</td>\n",
       "      <td>1.0</td>\n",
       "      <td>0.747204</td>\n",
       "      <td>0.700522</td>\n",
       "      <td>-15.179065</td>\n",
       "      <td>-35.727079</td>\n",
       "      <td>-37.103503</td>\n",
       "    </tr>\n",
       "  </tbody>\n",
       "</table>\n",
       "<p>5 rows × 136 columns</p>\n",
       "</div>"
      ],
      "text/plain": [
       "   ind_5  ind_6  ind_8      ind_9     ind_10     ind_12     ind_13  ind_14  \\\n",
       "0     19     17  100.0  85.714286  14.285714  72.363515  60.808814   23.80   \n",
       "1     24     19  100.0  78.571429  21.428571  74.275883  64.366798   11.45   \n",
       "2     30     24  100.0  71.428571  28.571429  75.140402  65.915803    8.75   \n",
       "3     37     30  100.0  64.285714  35.714286  76.677846  68.584234    7.80   \n",
       "4     41     37  100.0  57.142857  42.857143  81.603007  76.455495   14.90   \n",
       "\n",
       "   ind_15  ind_16  ...  ind_416  ind_418  ind_420  ind_422  ind_424   ind_426  \\\n",
       "0   17.62   11.73  ...    -49.6      -54     -152     -353      1.0  0.498547   \n",
       "1   18.16   12.22  ...    -55.6      -60     -158     -359      1.0  0.537088   \n",
       "2   17.86   12.28  ...    -58.4      -60     -160     -362      1.0  0.615169   \n",
       "3   14.76   12.61  ...    -61.8      -65     -166     -367      1.0  0.661517   \n",
       "4   11.92   14.25  ...    -79.8      -86     -186     -388      1.0  0.747204   \n",
       "\n",
       "    ind_428  20_target  50_target  90_target  \n",
       "0  0.701906  15.135802  35.625252  36.997753  \n",
       "1  0.690833  15.143348  35.643013  37.016198  \n",
       "2  0.693040  15.146870  35.651301 -37.024805  \n",
       "3  0.673418  15.153283   0.000000 -37.040483  \n",
       "4  0.700522 -15.179065 -35.727079 -37.103503  \n",
       "\n",
       "[5 rows x 136 columns]"
      ]
     },
     "execution_count": 2,
     "metadata": {},
     "output_type": "execute_result"
    }
   ],
   "source": [
    "dataset = pd.read_excel(\"HW_Data_Set.xlsx\")\n",
    "dataset.head()"
   ]
  },
  {
   "cell_type": "code",
   "execution_count": 3,
   "metadata": {},
   "outputs": [],
   "source": [
    "dataset = dataset[dataset['ind_420'] != '?']\n",
    "dataset = dataset[dataset['ind_422'] != '?']"
   ]
  },
  {
   "cell_type": "code",
   "execution_count": 4,
   "metadata": {},
   "outputs": [],
   "source": [
    "#dummy\n",
    "\n",
    "RED = pd.get_dummies(dataset['ind_109'], drop_first =True)\n",
    "dataset=pd.concat([dataset,RED],axis=1)\n",
    "dataset.drop(['ind_109'],axis =1,inplace=True)"
   ]
  },
  {
   "cell_type": "code",
   "execution_count": 5,
   "metadata": {},
   "outputs": [],
   "source": [
    "X = dataset.iloc[:, 0:132]\n",
    "y = dataset.loc[:, dataset.columns == '20_target']"
   ]
  },
  {
   "cell_type": "code",
   "execution_count": 6,
   "metadata": {},
   "outputs": [
    {
     "data": {
      "text/html": [
       "<div>\n",
       "<style scoped>\n",
       "    .dataframe tbody tr th:only-of-type {\n",
       "        vertical-align: middle;\n",
       "    }\n",
       "\n",
       "    .dataframe tbody tr th {\n",
       "        vertical-align: top;\n",
       "    }\n",
       "\n",
       "    .dataframe thead th {\n",
       "        text-align: right;\n",
       "    }\n",
       "</style>\n",
       "<table border=\"1\" class=\"dataframe\">\n",
       "  <thead>\n",
       "    <tr style=\"text-align: right;\">\n",
       "      <th></th>\n",
       "      <th>ind_420</th>\n",
       "      <th>ind_422</th>\n",
       "    </tr>\n",
       "  </thead>\n",
       "  <tbody>\n",
       "    <tr>\n",
       "      <td>0</td>\n",
       "      <td>-152</td>\n",
       "      <td>-353</td>\n",
       "    </tr>\n",
       "    <tr>\n",
       "      <td>1</td>\n",
       "      <td>-158</td>\n",
       "      <td>-359</td>\n",
       "    </tr>\n",
       "    <tr>\n",
       "      <td>2</td>\n",
       "      <td>-160</td>\n",
       "      <td>-362</td>\n",
       "    </tr>\n",
       "    <tr>\n",
       "      <td>3</td>\n",
       "      <td>-166</td>\n",
       "      <td>-367</td>\n",
       "    </tr>\n",
       "    <tr>\n",
       "      <td>4</td>\n",
       "      <td>-186</td>\n",
       "      <td>-388</td>\n",
       "    </tr>\n",
       "    <tr>\n",
       "      <td>...</td>\n",
       "      <td>...</td>\n",
       "      <td>...</td>\n",
       "    </tr>\n",
       "    <tr>\n",
       "      <td>6162</td>\n",
       "      <td>-11</td>\n",
       "      <td>-270</td>\n",
       "    </tr>\n",
       "    <tr>\n",
       "      <td>6163</td>\n",
       "      <td>-12</td>\n",
       "      <td>-271</td>\n",
       "    </tr>\n",
       "    <tr>\n",
       "      <td>6164</td>\n",
       "      <td>-21</td>\n",
       "      <td>-280</td>\n",
       "    </tr>\n",
       "    <tr>\n",
       "      <td>6165</td>\n",
       "      <td>-33</td>\n",
       "      <td>-292</td>\n",
       "    </tr>\n",
       "    <tr>\n",
       "      <td>6166</td>\n",
       "      <td>-28</td>\n",
       "      <td>-288</td>\n",
       "    </tr>\n",
       "  </tbody>\n",
       "</table>\n",
       "<p>5126 rows × 2 columns</p>\n",
       "</div>"
      ],
      "text/plain": [
       "     ind_420 ind_422\n",
       "0       -152    -353\n",
       "1       -158    -359\n",
       "2       -160    -362\n",
       "3       -166    -367\n",
       "4       -186    -388\n",
       "...      ...     ...\n",
       "6162     -11    -270\n",
       "6163     -12    -271\n",
       "6164     -21    -280\n",
       "6165     -33    -292\n",
       "6166     -28    -288\n",
       "\n",
       "[5126 rows x 2 columns]"
      ]
     },
     "execution_count": 6,
     "metadata": {},
     "output_type": "execute_result"
    }
   ],
   "source": [
    "cate =X.select_dtypes(include='object')\n",
    "cate"
   ]
  },
  {
   "cell_type": "code",
   "execution_count": 7,
   "metadata": {},
   "outputs": [
    {
     "data": {
      "text/plain": [
       "0      -152\n",
       "1      -158\n",
       "2      -160\n",
       "3      -166\n",
       "4      -186\n",
       "       ... \n",
       "6162    -11\n",
       "6163    -12\n",
       "6164    -21\n",
       "6165    -33\n",
       "6166    -28\n",
       "Name: ind_420, Length: 5126, dtype: int32"
      ]
     },
     "execution_count": 7,
     "metadata": {},
     "output_type": "execute_result"
    }
   ],
   "source": [
    "X['ind_420'].astype(int)"
   ]
  },
  {
   "cell_type": "code",
   "execution_count": 8,
   "metadata": {},
   "outputs": [
    {
     "data": {
      "text/plain": [
       "0      -353\n",
       "1      -359\n",
       "2      -362\n",
       "3      -367\n",
       "4      -388\n",
       "       ... \n",
       "6162   -270\n",
       "6163   -271\n",
       "6164   -280\n",
       "6165   -292\n",
       "6166   -288\n",
       "Name: ind_422, Length: 5126, dtype: int32"
      ]
     },
     "execution_count": 8,
     "metadata": {},
     "output_type": "execute_result"
    }
   ],
   "source": [
    "X['ind_422'].astype(int)"
   ]
  },
  {
   "cell_type": "code",
   "execution_count": 9,
   "metadata": {},
   "outputs": [
    {
     "name": "stdout",
     "output_type": "stream",
     "text": [
      "\u001b[31mind_5   :Normal dağılımdan gelmemektedir\u001b[0m\n",
      "\u001b[31mind_6   :Normal dağılımdan gelmemektedir\u001b[0m\n",
      "\u001b[31mind_8   :Normal dağılımdan gelmemektedir\u001b[0m\n",
      "\u001b[31mind_9   :Normal dağılımdan gelmemektedir\u001b[0m\n",
      "\u001b[31mind_10   :Normal dağılımdan gelmemektedir\u001b[0m\n",
      "\u001b[31mind_12   :Normal dağılımdan gelmemektedir\u001b[0m\n",
      "\u001b[31mind_13   :Normal dağılımdan gelmemektedir\u001b[0m\n",
      "\u001b[31mind_14   :Normal dağılımdan gelmemektedir\u001b[0m\n",
      "\u001b[31mind_15   :Normal dağılımdan gelmemektedir\u001b[0m\n",
      "\u001b[31mind_16   :Normal dağılımdan gelmemektedir\u001b[0m\n",
      "\u001b[31mind_17   :Normal dağılımdan gelmemektedir\u001b[0m\n",
      "\u001b[31mind_18   :Normal dağılımdan gelmemektedir\u001b[0m\n",
      "\u001b[31mind_19   :Normal dağılımdan gelmemektedir\u001b[0m\n",
      "\u001b[31mind_20   :Normal dağılımdan gelmemektedir\u001b[0m\n",
      "\u001b[31mind_21   :Normal dağılımdan gelmemektedir\u001b[0m\n",
      "\u001b[31mind_22   :Normal dağılımdan gelmemektedir\u001b[0m\n",
      "\u001b[31mind_23   :Normal dağılımdan gelmemektedir\u001b[0m\n",
      "\u001b[31mind_25   :Normal dağılımdan gelmemektedir\u001b[0m\n",
      "\u001b[31mind_26   :Normal dağılımdan gelmemektedir\u001b[0m\n",
      "\u001b[31mind_27   :Normal dağılımdan gelmemektedir\u001b[0m\n",
      "\u001b[31mind_28   :Normal dağılımdan gelmemektedir\u001b[0m\n",
      "\u001b[31mind_29   :Normal dağılımdan gelmemektedir\u001b[0m\n",
      "\u001b[31mind_30   :Normal dağılımdan gelmemektedir\u001b[0m\n",
      "\u001b[31mind_31   :Normal dağılımdan gelmemektedir\u001b[0m\n",
      "\u001b[31mind_32   :Normal dağılımdan gelmemektedir\u001b[0m\n",
      "\u001b[31mind_33   :Normal dağılımdan gelmemektedir\u001b[0m\n",
      "\u001b[31mind_34   :Normal dağılımdan gelmemektedir\u001b[0m\n",
      "\u001b[31mind_35   :Normal dağılımdan gelmemektedir\u001b[0m\n",
      "\u001b[31mind_36   :Normal dağılımdan gelmemektedir\u001b[0m\n",
      "\u001b[31mind_37   :Normal dağılımdan gelmemektedir\u001b[0m\n",
      "\u001b[31mind_39   :Normal dağılımdan gelmemektedir\u001b[0m\n",
      "\u001b[31mind_40   :Normal dağılımdan gelmemektedir\u001b[0m\n",
      "\u001b[31mind_41   :Normal dağılımdan gelmemektedir\u001b[0m\n",
      "\u001b[31mind_42   :Normal dağılımdan gelmemektedir\u001b[0m\n",
      "\u001b[31mind_43   :Normal dağılımdan gelmemektedir\u001b[0m\n",
      "\u001b[31mind_44   :Normal dağılımdan gelmemektedir\u001b[0m\n",
      "\u001b[31mind_45   :Normal dağılımdan gelmemektedir\u001b[0m\n",
      "\u001b[31mind_46   :Normal dağılımdan gelmemektedir\u001b[0m\n",
      "\u001b[31mind_47   :Normal dağılımdan gelmemektedir\u001b[0m\n",
      "\u001b[31mind_48   :Normal dağılımdan gelmemektedir\u001b[0m\n",
      "\u001b[31mind_49   :Normal dağılımdan gelmemektedir\u001b[0m\n",
      "\u001b[31mind_50   :Normal dağılımdan gelmemektedir\u001b[0m\n",
      "\u001b[31mind_51   :Normal dağılımdan gelmemektedir\u001b[0m\n",
      "\u001b[31mind_52   :Normal dağılımdan gelmemektedir\u001b[0m\n",
      "\u001b[31mind_53   :Normal dağılımdan gelmemektedir\u001b[0m\n",
      "\u001b[31mind_56   :Normal dağılımdan gelmemektedir\u001b[0m\n",
      "\u001b[31mind_58   :Normal dağılımdan gelmemektedir\u001b[0m\n",
      "\u001b[31mind_61   :Normal dağılımdan gelmemektedir\u001b[0m\n",
      "\u001b[31mind_62   :Normal dağılımdan gelmemektedir\u001b[0m\n",
      "\u001b[31mind_65   :Normal dağılımdan gelmemektedir\u001b[0m\n",
      "\u001b[31mind_67   :Normal dağılımdan gelmemektedir\u001b[0m\n",
      "\u001b[31mind_70   :Normal dağılımdan gelmemektedir\u001b[0m\n",
      "\u001b[31mind_71   :Normal dağılımdan gelmemektedir\u001b[0m\n",
      "\u001b[31mind_74   :Normal dağılımdan gelmemektedir\u001b[0m\n",
      "\u001b[31mind_77   :Normal dağılımdan gelmemektedir\u001b[0m\n",
      "\u001b[31mind_82   :Normal dağılımdan gelmemektedir\u001b[0m\n",
      "\u001b[31mind_83   :Normal dağılımdan gelmemektedir\u001b[0m\n",
      "\u001b[31mind_88   :Normal dağılımdan gelmemektedir\u001b[0m\n",
      "\u001b[31mind_92   :Normal dağılımdan gelmemektedir\u001b[0m\n",
      "\u001b[31mind_102   :Normal dağılımdan gelmemektedir\u001b[0m\n",
      "\u001b[31mind_116   :Normal dağılımdan gelmemektedir\u001b[0m\n",
      "\u001b[31mind_118   :Normal dağılımdan gelmemektedir\u001b[0m\n",
      "\u001b[31mind_122   :Normal dağılımdan gelmemektedir\u001b[0m\n",
      "\u001b[31mind_124   :Normal dağılımdan gelmemektedir\u001b[0m\n",
      "\u001b[31mind_128   :Normal dağılımdan gelmemektedir\u001b[0m\n",
      "\u001b[31mind_130   :Normal dağılımdan gelmemektedir\u001b[0m\n",
      "\u001b[31mind_132   :Normal dağılımdan gelmemektedir\u001b[0m\n",
      "\u001b[31mind_134   :Normal dağılımdan gelmemektedir\u001b[0m\n",
      "\u001b[31mind_136   :Normal dağılımdan gelmemektedir\u001b[0m\n",
      "\u001b[31mind_139   :Normal dağılımdan gelmemektedir\u001b[0m\n",
      "\u001b[31mind_142   :Normal dağılımdan gelmemektedir\u001b[0m\n",
      "\u001b[31mind_145   :Normal dağılımdan gelmemektedir\u001b[0m\n",
      "\u001b[31mind_147   :Normal dağılımdan gelmemektedir\u001b[0m\n",
      "\u001b[31mind_150   :Normal dağılımdan gelmemektedir\u001b[0m\n",
      "\u001b[31mind_153   :Normal dağılımdan gelmemektedir\u001b[0m\n",
      "\u001b[31mind_156   :Normal dağılımdan gelmemektedir\u001b[0m\n",
      "\u001b[31mind_164   :Normal dağılımdan gelmemektedir\u001b[0m\n",
      "\u001b[31mind_168   :Normal dağılımdan gelmemektedir\u001b[0m\n",
      "\u001b[31mind_172   :Normal dağılımdan gelmemektedir\u001b[0m\n",
      "\u001b[31mind_176   :Normal dağılımdan gelmemektedir\u001b[0m\n",
      "\u001b[31mind_179   :Normal dağılımdan gelmemektedir\u001b[0m\n",
      "\u001b[31mind_181   :Normal dağılımdan gelmemektedir\u001b[0m\n",
      "\u001b[31mind_188   :Normal dağılımdan gelmemektedir\u001b[0m\n",
      "\u001b[31mind_194   :Normal dağılımdan gelmemektedir\u001b[0m\n",
      "\u001b[31mind_212   :Normal dağılımdan gelmemektedir\u001b[0m\n",
      "\u001b[31mind_217   :Normal dağılımdan gelmemektedir\u001b[0m\n",
      "\u001b[31mind_225   :Normal dağılımdan gelmemektedir\u001b[0m\n",
      "\u001b[31mind_228   :Normal dağılımdan gelmemektedir\u001b[0m\n",
      "\u001b[31mind_234   :Normal dağılımdan gelmemektedir\u001b[0m\n",
      "\u001b[31mind_237   :Normal dağılımdan gelmemektedir\u001b[0m\n",
      "\u001b[31mind_239   :Normal dağılımdan gelmemektedir\u001b[0m\n",
      "\u001b[31mind_241   :Normal dağılımdan gelmemektedir\u001b[0m\n",
      "\u001b[31mind_243   :Normal dağılımdan gelmemektedir\u001b[0m\n",
      "\u001b[31mind_309   :Normal dağılımdan gelmemektedir\u001b[0m\n",
      "\u001b[31mind_310   :Normal dağılımdan gelmemektedir\u001b[0m\n",
      "\u001b[31mind_311   :Normal dağılımdan gelmemektedir\u001b[0m\n",
      "\u001b[31mind_313   :Normal dağılımdan gelmemektedir\u001b[0m\n",
      "\u001b[31mind_315   :Normal dağılımdan gelmemektedir\u001b[0m\n",
      "\u001b[31mind_316   :Normal dağılımdan gelmemektedir\u001b[0m\n",
      "\u001b[31mind_318   :Normal dağılımdan gelmemektedir\u001b[0m\n",
      "\u001b[31mind_321   :Normal dağılımdan gelmemektedir\u001b[0m\n",
      "\u001b[31mind_324   :Normal dağılımdan gelmemektedir\u001b[0m\n",
      "\u001b[31mind_327   :Normal dağılımdan gelmemektedir\u001b[0m\n",
      "\u001b[31mind_330   :Normal dağılımdan gelmemektedir\u001b[0m\n",
      "\u001b[31mind_332   :Normal dağılımdan gelmemektedir\u001b[0m\n",
      "\u001b[31mind_334   :Normal dağılımdan gelmemektedir\u001b[0m\n",
      "\u001b[31mind_338   :Normal dağılımdan gelmemektedir\u001b[0m\n",
      "\u001b[31mind_340   :Normal dağılımdan gelmemektedir\u001b[0m\n",
      "\u001b[31mind_344   :Normal dağılımdan gelmemektedir\u001b[0m\n",
      "\u001b[31mind_345   :Normal dağılımdan gelmemektedir\u001b[0m\n",
      "\u001b[31mind_347   :Normal dağılımdan gelmemektedir\u001b[0m\n",
      "\u001b[31mind_349   :Normal dağılımdan gelmemektedir\u001b[0m\n",
      "\u001b[31mind_351   :Normal dağılımdan gelmemektedir\u001b[0m\n",
      "\u001b[31mind_352   :Normal dağılımdan gelmemektedir\u001b[0m\n",
      "\u001b[31mind_387   :Normal dağılımdan gelmemektedir\u001b[0m\n",
      "\u001b[31mind_392   :Normal dağılımdan gelmemektedir\u001b[0m\n",
      "\u001b[31mind_397   :Normal dağılımdan gelmemektedir\u001b[0m\n",
      "\u001b[31mind_399   :Normal dağılımdan gelmemektedir\u001b[0m\n",
      "\u001b[31mind_403   :Normal dağılımdan gelmemektedir\u001b[0m\n",
      "\u001b[31mind_404   :Normal dağılımdan gelmemektedir\u001b[0m\n",
      "\u001b[31mind_406   :Normal dağılımdan gelmemektedir\u001b[0m\n",
      "\u001b[31mind_407   :Normal dağılımdan gelmemektedir\u001b[0m\n",
      "\u001b[31mind_410   :Normal dağılımdan gelmemektedir\u001b[0m\n",
      "\u001b[31mind_412   :Normal dağılımdan gelmemektedir\u001b[0m\n",
      "\u001b[31mind_414   :Normal dağılımdan gelmemektedir\u001b[0m\n",
      "\u001b[31mind_416   :Normal dağılımdan gelmemektedir\u001b[0m\n",
      "\u001b[31mind_418   :Normal dağılımdan gelmemektedir\u001b[0m\n",
      "\u001b[31mind_420   :Normal dağılımdan gelmemektedir\u001b[0m\n",
      "\u001b[31mind_422   :Normal dağılımdan gelmemektedir\u001b[0m\n",
      "\u001b[31mind_424   :Normal dağılımdan gelmemektedir\u001b[0m\n",
      "\u001b[31mind_426   :Normal dağılımdan gelmemektedir\u001b[0m\n",
      "\u001b[31mind_428   :Normal dağılımdan gelmemektedir\u001b[0m\n"
     ]
    }
   ],
   "source": [
    "# Shapiro \n",
    "\n",
    "for each in X.columns:\n",
    "    stat , p = shapiro(X[each])\n",
    "    if p > 0.5:\n",
    "        print(colored(each +\"  :  Normal dağılımdan(Gaussian) gelmektedir (Fail to Reject Ho)\",'green'))\n",
    "    else:\n",
    "        print(colored(each+\"   :Normal dağılımdan gelmemektedir\",'red'))"
   ]
  },
  {
   "cell_type": "code",
   "execution_count": null,
   "metadata": {},
   "outputs": [],
   "source": [
    "X1 = sm.add_constant(X)\n",
    "model = sm.OLS(y.astype(float), X1.astype(float)).fit()\n",
    "predictions = model.predict(X1) \n",
    " \n",
    "print_model = model.summary()\n",
    "print(print_model)"
   ]
  },
  {
   "cell_type": "code",
   "execution_count": null,
   "metadata": {},
   "outputs": [],
   "source": []
  },
  {
   "cell_type": "code",
   "execution_count": 9,
   "metadata": {},
   "outputs": [
    {
     "data": {
      "text/plain": [
       "(3588, 132)"
      ]
     },
     "execution_count": 9,
     "metadata": {},
     "output_type": "execute_result"
    }
   ],
   "source": [
    "X_train,X_test,y_train,y_test=train_test_split(X,y,test_size=0.3,random_state=42,shuffle = False)\n",
    "X_train.shape"
   ]
  },
  {
   "cell_type": "code",
   "execution_count": null,
   "metadata": {},
   "outputs": [],
   "source": []
  },
  {
   "cell_type": "markdown",
   "metadata": {},
   "source": [
    "# Linear Regression"
   ]
  },
  {
   "cell_type": "code",
   "execution_count": 10,
   "metadata": {},
   "outputs": [
    {
     "name": "stdout",
     "output_type": "stream",
     "text": [
      "Grid Search Helper...\n"
     ]
    }
   ],
   "source": [
    "gsh = Classes.GridSearchHelper()\n"
   ]
  },
  {
   "cell_type": "code",
   "execution_count": 11,
   "metadata": {},
   "outputs": [
    {
     "data": {
      "text/html": [
       "<div>\n",
       "<style scoped>\n",
       "    .dataframe tbody tr th:only-of-type {\n",
       "        vertical-align: middle;\n",
       "    }\n",
       "\n",
       "    .dataframe tbody tr th {\n",
       "        vertical-align: top;\n",
       "    }\n",
       "\n",
       "    .dataframe thead th {\n",
       "        text-align: right;\n",
       "    }\n",
       "</style>\n",
       "<table border=\"1\" class=\"dataframe\">\n",
       "  <thead>\n",
       "    <tr style=\"text-align: right;\">\n",
       "      <th></th>\n",
       "      <th>20_target</th>\n",
       "    </tr>\n",
       "  </thead>\n",
       "  <tbody>\n",
       "    <tr>\n",
       "      <td>0</td>\n",
       "      <td>15.135802</td>\n",
       "    </tr>\n",
       "    <tr>\n",
       "      <td>1</td>\n",
       "      <td>15.143348</td>\n",
       "    </tr>\n",
       "    <tr>\n",
       "      <td>2</td>\n",
       "      <td>15.146870</td>\n",
       "    </tr>\n",
       "    <tr>\n",
       "      <td>3</td>\n",
       "      <td>15.153283</td>\n",
       "    </tr>\n",
       "    <tr>\n",
       "      <td>4</td>\n",
       "      <td>-15.179065</td>\n",
       "    </tr>\n",
       "    <tr>\n",
       "      <td>...</td>\n",
       "      <td>...</td>\n",
       "    </tr>\n",
       "    <tr>\n",
       "      <td>4624</td>\n",
       "      <td>-14.860256</td>\n",
       "    </tr>\n",
       "    <tr>\n",
       "      <td>4625</td>\n",
       "      <td>14.855729</td>\n",
       "    </tr>\n",
       "    <tr>\n",
       "      <td>4626</td>\n",
       "      <td>14.840008</td>\n",
       "    </tr>\n",
       "    <tr>\n",
       "      <td>4627</td>\n",
       "      <td>14.840386</td>\n",
       "    </tr>\n",
       "    <tr>\n",
       "      <td>4628</td>\n",
       "      <td>14.842524</td>\n",
       "    </tr>\n",
       "  </tbody>\n",
       "</table>\n",
       "<p>3588 rows × 1 columns</p>\n",
       "</div>"
      ],
      "text/plain": [
       "      20_target\n",
       "0     15.135802\n",
       "1     15.143348\n",
       "2     15.146870\n",
       "3     15.153283\n",
       "4    -15.179065\n",
       "...         ...\n",
       "4624 -14.860256\n",
       "4625  14.855729\n",
       "4626  14.840008\n",
       "4627  14.840386\n",
       "4628  14.842524\n",
       "\n",
       "[3588 rows x 1 columns]"
      ]
     },
     "execution_count": 11,
     "metadata": {},
     "output_type": "execute_result"
    }
   ],
   "source": [
    "y_train"
   ]
  },
  {
   "cell_type": "code",
   "execution_count": 12,
   "metadata": {},
   "outputs": [
    {
     "data": {
      "text/plain": [
       "0       15.135802\n",
       "1       15.143348\n",
       "2       15.146870\n",
       "3       15.153283\n",
       "4      -15.179065\n",
       "          ...    \n",
       "4624   -14.860256\n",
       "4625    14.855729\n",
       "4626    14.840008\n",
       "4627    14.840386\n",
       "4628    14.842524\n",
       "Name: 20_target, Length: 3588, dtype: float64"
      ]
     },
     "execution_count": 12,
     "metadata": {},
     "output_type": "execute_result"
    }
   ],
   "source": [
    "y_train_ = y_train.iloc[:,0]\n",
    "y_train_"
   ]
  },
  {
   "cell_type": "code",
   "execution_count": 13,
   "metadata": {},
   "outputs": [
    {
     "data": {
      "text/plain": [
       "4629    14.848686\n",
       "4630    14.847931\n",
       "4631    14.854345\n",
       "4632    14.853213\n",
       "4633    14.854974\n",
       "          ...    \n",
       "6162    14.673247\n",
       "6163    14.673750\n",
       "6164   -14.684566\n",
       "6165   -14.699280\n",
       "6166   -14.693117\n",
       "Name: 20_target, Length: 1538, dtype: float64"
      ]
     },
     "execution_count": 13,
     "metadata": {},
     "output_type": "execute_result"
    }
   ],
   "source": [
    "y_test_ = y_test.iloc[:,0]\n",
    "y_test_"
   ]
  },
  {
   "cell_type": "code",
   "execution_count": 14,
   "metadata": {},
   "outputs": [
    {
     "name": "stdout",
     "output_type": "stream",
     "text": [
      "RMSE :  16.505380163155262\n"
     ]
    },
    {
     "data": {
      "text/plain": [
       "LinearRegression(copy_X=True, fit_intercept=True, n_jobs=None, normalize=False)"
      ]
     },
     "execution_count": 14,
     "metadata": {},
     "output_type": "execute_result"
    }
   ],
   "source": [
    "\n",
    "lr = gsh.LinearReg(X_train,X_test,y_train_,y_test_)\n",
    "lr"
   ]
  },
  {
   "cell_type": "code",
   "execution_count": 15,
   "metadata": {},
   "outputs": [
    {
     "name": "stdout",
     "output_type": "stream",
     "text": [
      "RMSE :  16.50537968842335\n"
     ]
    },
    {
     "data": {
      "text/plain": [
       "(array([[0.66216216, 0.64864865, 1.        , ..., 1.        , 0.49854651,\n",
       "         0.78773616],\n",
       "        [0.69594595, 0.66216216, 1.        , ..., 1.        , 0.53708791,\n",
       "         0.77362977],\n",
       "        [0.73648649, 0.69594595, 1.        , ..., 1.        , 0.61516854,\n",
       "         0.77644125],\n",
       "        ...,\n",
       "        [0.52027027, 0.49324324, 0.35714286, ..., 0.15231788, 0.6119403 ,\n",
       "         0.44400446],\n",
       "        [0.52027027, 0.52027027, 0.28571429, ..., 0.        , 0.52373418,\n",
       "         0.4401374 ],\n",
       "        [0.51351351, 0.52027027, 0.21428571, ..., 0.        , 0.59747292,\n",
       "         0.43843004]]),\n",
       " array([[0.50675676, 0.51351351, 0.14285714, ..., 1.        , 0.72541744,\n",
       "         0.44899437],\n",
       "        [0.5       , 0.50675676, 0.07142857, ..., 1.        , 0.72761905,\n",
       "         0.42736799],\n",
       "        [0.50675676, 0.5       , 0.        , ..., 1.        , 0.7033195 ,\n",
       "         0.4455459 ],\n",
       "        ...,\n",
       "        [0.66216216, 0.68243243, 0.42857143, ..., 0.76923077, 0.63210702,\n",
       "         0.59646706],\n",
       "        [0.66216216, 0.66216216, 1.        , ..., 1.        , 0.73300971,\n",
       "         0.64719907],\n",
       "        [0.66216216, 0.66216216, 0.92857143, ..., 1.        , 0.6875    ,\n",
       "         0.65019551]]))"
      ]
     },
     "execution_count": 15,
     "metadata": {},
     "output_type": "execute_result"
    }
   ],
   "source": [
    "gsh.MinMaxScaleModel(\"Linear\",lr,X_train,X_test,y_train,y_test)"
   ]
  },
  {
   "cell_type": "code",
   "execution_count": 16,
   "metadata": {},
   "outputs": [
    {
     "name": "stdout",
     "output_type": "stream",
     "text": [
      "RMSE :  16.505382323493073\n"
     ]
    },
    {
     "data": {
      "text/plain": [
       "(array([[ 9.14539521e-01,  8.22690452e-01,  1.42072396e+00, ...,\n",
       "          1.20740423e+00, -1.39989653e-03,  1.41706388e+00],\n",
       "        [ 1.14075650e+00,  9.13141151e-01,  1.42072396e+00, ...,\n",
       "          1.20740423e+00,  1.66318008e-01,  1.34305770e+00],\n",
       "        [ 1.41221688e+00,  1.13926790e+00,  1.42072396e+00, ...,\n",
       "          1.20740423e+00,  5.06095992e-01,  1.35780753e+00],\n",
       "        ...,\n",
       "        [-3.55718007e-02, -2.17492588e-01, -3.56873704e-01, ...,\n",
       "         -7.90606878e-01,  4.92047886e-01, -3.86251877e-01],\n",
       "        [-3.55718007e-02, -3.65911900e-02, -5.54384556e-01, ...,\n",
       "         -1.14962450e+00,  1.08207497e-01, -4.06539587e-01],\n",
       "        [-8.08151970e-02, -3.65911900e-02, -7.51895408e-01, ...,\n",
       "         -1.14962450e+00,  4.29091226e-01, -4.15496868e-01]]),\n",
       " array([[-0.12605859, -0.08181654, -0.94940626, ...,  1.20740423,\n",
       "          0.9858584 , -0.36007333],\n",
       "        [-0.17130199, -0.12704189, -1.14691711, ...,  1.20740423,\n",
       "          0.99543898, -0.47353161],\n",
       "        [-0.12605859, -0.17226724, -1.34442796, ...,  1.20740423,\n",
       "          0.88969635, -0.37816504],\n",
       "        ...,\n",
       "        [ 0.91453952,  1.0488172 , -0.15936285, ...,  0.66347452,\n",
       "          0.579806  ,  0.41361097],\n",
       "        [ 0.91453952,  0.91314115,  1.42072396, ...,  1.20740423,\n",
       "          1.01889714,  0.67976571],\n",
       "        [ 0.91453952,  0.91314115,  1.22321311, ...,  1.20740423,\n",
       "          0.82085573,  0.69548593]]))"
      ]
     },
     "execution_count": 16,
     "metadata": {},
     "output_type": "execute_result"
    }
   ],
   "source": [
    "gsh.StandardScaleModel(\"Linear\",lr,X_train,X_test,y_train,y_test)"
   ]
  },
  {
   "cell_type": "markdown",
   "metadata": {},
   "source": [
    "## Assumptions"
   ]
  },
  {
   "cell_type": "code",
   "execution_count": 18,
   "metadata": {},
   "outputs": [
    {
     "name": "stdout",
     "output_type": "stream",
     "text": [
      "\n"
     ]
    }
   ],
   "source": [
    "v = Classes.Visualizer()"
   ]
  },
  {
   "cell_type": "markdown",
   "metadata": {},
   "source": [
    "###  <li> 1. Linearity </li>"
   ]
  },
  {
   "cell_type": "code",
   "execution_count": 19,
   "metadata": {},
   "outputs": [
    {
     "name": "stdout",
     "output_type": "stream",
     "text": [
      "Assumption 1: Linear Relationship between the Target and the Feature \n",
      "\n",
      "Checking with a scatter plot of actual vs. predicted. Predictions should follow the diagonal line.\n"
     ]
    },
    {
     "data": {
      "image/png": "[encoded data removed]",
      "text/plain": [
       "<Figure size 504x504 with 1 Axes>"
      ]
     },
     "metadata": {
      "needs_background": "light"
     },
     "output_type": "display_data"
    }
   ],
   "source": [
    "\n",
    "v.linear_assumption(lr, X_train,y_train_)\n"
   ]
  },
  {
   "cell_type": "markdown",
   "metadata": {},
   "source": [
    "### <li> 2. Normality of the Error Terms </li>"
   ]
  },
  {
   "cell_type": "code",
   "execution_count": 20,
   "metadata": {},
   "outputs": [
    {
     "name": "stdout",
     "output_type": "stream",
     "text": [
      "Assumption 2: The error terms are normally distributed \n",
      "\n",
      "Using the Anderson-Darling test for normal distribution\n",
      "p-value from the test - below 0.05 generally means non-normal: 0.0\n",
      "Residuals are not normally distributed\n"
     ]
    },
    {
     "data": {
      "image/png": "[encoded data removed]",
      "text/plain": [
       "<Figure size 864x432 with 1 Axes>"
      ]
     },
     "metadata": {
      "needs_background": "light"
     },
     "output_type": "display_data"
    },
    {
     "name": "stdout",
     "output_type": "stream",
     "text": [
      "\n",
      "Assumption not satisfied\n",
      "\n",
      "Confidence intervals will likely be affected\n",
      "Try performing nonlinear transformations on variables\n"
     ]
    }
   ],
   "source": [
    "v.normal_errors_assumption(lr,X_train,y_train_)"
   ]
  },
  {
   "cell_type": "markdown",
   "metadata": {},
   "source": [
    "### <li> 3. Homoscedasticity </li>"
   ]
  },
  {
   "cell_type": "code",
   "execution_count": 21,
   "metadata": {},
   "outputs": [
    {
     "name": "stdout",
     "output_type": "stream",
     "text": [
      "Assumption 5: Homoscedasticity of Error Terms \n",
      "\n",
      "Residuals should have relative constant variance\n"
     ]
    },
    {
     "data": {
      "image/png": "[encoded data removed]",
      "text/plain": [
       "<Figure size 864x432 with 1 Axes>"
      ]
     },
     "metadata": {
      "needs_background": "light"
     },
     "output_type": "display_data"
    }
   ],
   "source": [
    "v.homoscedasticity_assumption(lr,  X_train, y_train_)"
   ]
  },
  {
   "cell_type": "markdown",
   "metadata": {},
   "source": [
    "### <li> 4. No Autocorrelation of the Error Terms </li>\n"
   ]
  },
  {
   "cell_type": "code",
   "execution_count": 22,
   "metadata": {},
   "outputs": [
    {
     "name": "stdout",
     "output_type": "stream",
     "text": [
      "Assumption 4: No Autocorrelation \n",
      "\n",
      "\n",
      "Performing Durbin-Watson Test\n",
      "Values of 1.5 < d < 2.5 generally show that there is no autocorrelation in the data\n",
      "0 to 2< is positive autocorrelation\n",
      ">2 to 4 is negative autocorrelation\n",
      "-------------------------------------\n",
      "Durbin-Watson: 0.13721235072470642\n",
      "Signs of positive autocorrelation \n",
      "\n",
      "Assumption not satisfied\n"
     ]
    }
   ],
   "source": [
    "v.autocorrelation_assumption(lr, X_train, y_train_)"
   ]
  },
  {
   "cell_type": "code",
   "execution_count": null,
   "metadata": {},
   "outputs": [],
   "source": []
  },
  {
   "cell_type": "code",
   "execution_count": null,
   "metadata": {},
   "outputs": [],
   "source": []
  },
  {
   "cell_type": "markdown",
   "metadata": {},
   "source": [
    "# Decision Tree"
   ]
  },
  {
   "cell_type": "code",
   "execution_count": 15,
   "metadata": {},
   "outputs": [
    {
     "name": "stdout",
     "output_type": "stream",
     "text": [
      "RMSE :  21.364996581051802\n"
     ]
    },
    {
     "data": {
      "text/plain": [
       "DecisionTreeRegressor(criterion='mse', max_depth=None, max_features=None,\n",
       "                      max_leaf_nodes=None, min_impurity_decrease=0.0,\n",
       "                      min_impurity_split=None, min_samples_leaf=1,\n",
       "                      min_samples_split=2, min_weight_fraction_leaf=0.0,\n",
       "                      presort=False, random_state=None, splitter='best')"
      ]
     },
     "execution_count": 15,
     "metadata": {},
     "output_type": "execute_result"
    }
   ],
   "source": [
    "dt = gsh.DecisionTreeReg(X_train,X_test,y_train,y_test)\n",
    "dt"
   ]
  },
  {
   "cell_type": "code",
   "execution_count": 50,
   "metadata": {},
   "outputs": [
    {
     "name": "stdout",
     "output_type": "stream",
     "text": [
      "RMSE :  21.28461570032632\n"
     ]
    },
    {
     "data": {
      "text/plain": [
       "(array([[0.66216216, 0.64864865, 1.        , ..., 1.        , 0.49854651,\n",
       "         0.78773616],\n",
       "        [0.69594595, 0.66216216, 1.        , ..., 1.        , 0.53708791,\n",
       "         0.77362977],\n",
       "        [0.73648649, 0.69594595, 1.        , ..., 1.        , 0.61516854,\n",
       "         0.77644125],\n",
       "        ...,\n",
       "        [0.52027027, 0.49324324, 0.35714286, ..., 0.15231788, 0.6119403 ,\n",
       "         0.44400446],\n",
       "        [0.52027027, 0.52027027, 0.28571429, ..., 0.        , 0.52373418,\n",
       "         0.4401374 ],\n",
       "        [0.51351351, 0.52027027, 0.21428571, ..., 0.        , 0.59747292,\n",
       "         0.43843004]]),\n",
       " array([[0.50675676, 0.51351351, 0.14285714, ..., 1.        , 0.72541744,\n",
       "         0.44899437],\n",
       "        [0.5       , 0.50675676, 0.07142857, ..., 1.        , 0.72761905,\n",
       "         0.42736799],\n",
       "        [0.50675676, 0.5       , 0.        , ..., 1.        , 0.7033195 ,\n",
       "         0.4455459 ],\n",
       "        ...,\n",
       "        [0.66216216, 0.68243243, 0.42857143, ..., 0.76923077, 0.63210702,\n",
       "         0.59646706],\n",
       "        [0.66216216, 0.66216216, 1.        , ..., 1.        , 0.73300971,\n",
       "         0.64719907],\n",
       "        [0.66216216, 0.66216216, 0.92857143, ..., 1.        , 0.6875    ,\n",
       "         0.65019551]]))"
      ]
     },
     "execution_count": 50,
     "metadata": {},
     "output_type": "execute_result"
    }
   ],
   "source": [
    "gsh.MinMaxScaleModel(\"Decision Tree\",dt,X_train,X_test,y_train,y_test)"
   ]
  },
  {
   "cell_type": "code",
   "execution_count": 51,
   "metadata": {},
   "outputs": [
    {
     "name": "stdout",
     "output_type": "stream",
     "text": [
      "RMSE :  21.145494258139372\n"
     ]
    },
    {
     "data": {
      "text/plain": [
       "(array([[ 9.14539521e-01,  8.22690452e-01,  1.42072396e+00, ...,\n",
       "          1.20740423e+00, -1.39989653e-03,  1.41706388e+00],\n",
       "        [ 1.14075650e+00,  9.13141151e-01,  1.42072396e+00, ...,\n",
       "          1.20740423e+00,  1.66318008e-01,  1.34305770e+00],\n",
       "        [ 1.41221688e+00,  1.13926790e+00,  1.42072396e+00, ...,\n",
       "          1.20740423e+00,  5.06095992e-01,  1.35780753e+00],\n",
       "        ...,\n",
       "        [-3.55718007e-02, -2.17492588e-01, -3.56873704e-01, ...,\n",
       "         -7.90606878e-01,  4.92047886e-01, -3.86251877e-01],\n",
       "        [-3.55718007e-02, -3.65911900e-02, -5.54384556e-01, ...,\n",
       "         -1.14962450e+00,  1.08207497e-01, -4.06539587e-01],\n",
       "        [-8.08151970e-02, -3.65911900e-02, -7.51895408e-01, ...,\n",
       "         -1.14962450e+00,  4.29091226e-01, -4.15496868e-01]]),\n",
       " array([[-0.12605859, -0.08181654, -0.94940626, ...,  1.20740423,\n",
       "          0.9858584 , -0.36007333],\n",
       "        [-0.17130199, -0.12704189, -1.14691711, ...,  1.20740423,\n",
       "          0.99543898, -0.47353161],\n",
       "        [-0.12605859, -0.17226724, -1.34442796, ...,  1.20740423,\n",
       "          0.88969635, -0.37816504],\n",
       "        ...,\n",
       "        [ 0.91453952,  1.0488172 , -0.15936285, ...,  0.66347452,\n",
       "          0.579806  ,  0.41361097],\n",
       "        [ 0.91453952,  0.91314115,  1.42072396, ...,  1.20740423,\n",
       "          1.01889714,  0.67976571],\n",
       "        [ 0.91453952,  0.91314115,  1.22321311, ...,  1.20740423,\n",
       "          0.82085573,  0.69548593]]))"
      ]
     },
     "execution_count": 51,
     "metadata": {},
     "output_type": "execute_result"
    }
   ],
   "source": [
    "gsh.StandardScaleModel(\"Decision Tree\",dt,X_train,X_test,y_train,y_test)"
   ]
  },
  {
   "cell_type": "markdown",
   "metadata": {},
   "source": [
    "### Model Tuning"
   ]
  },
  {
   "cell_type": "code",
   "execution_count": 26,
   "metadata": {},
   "outputs": [],
   "source": [
    "params_dt = {#\"min_samples_split\" : range(20,50),\n",
    "             # \"min_samples_leaf\" : range(10,15,20),\n",
    "             # \"max_leaf_nodes\": range(4,8),\n",
    "             \"max_depth\": range(1,30)}\n",
    "\n"
   ]
  },
  {
   "cell_type": "code",
   "execution_count": 27,
   "metadata": {},
   "outputs": [
    {
     "name": "stdout",
     "output_type": "stream",
     "text": [
      "En iyi parametresi :{'max_depth': 2}\n",
      "Tuned Model RMSE :  14.629910996137536\n"
     ]
    }
   ],
   "source": [
    "tuned_dt = gsh.GridSearchCVR('Decision Tree',dt,params_dt,X_train,X_test,y_train, y_test)"
   ]
  },
  {
   "cell_type": "code",
   "execution_count": null,
   "metadata": {},
   "outputs": [],
   "source": [
    "v = Classes.Visualizer()\n",
    "v.GraphTree(tuned_dt,X_train)"
   ]
  },
  {
   "cell_type": "markdown",
   "metadata": {},
   "source": [
    "# Random Forest"
   ]
  },
  {
   "cell_type": "code",
   "execution_count": 52,
   "metadata": {},
   "outputs": [
    {
     "name": "stdout",
     "output_type": "stream",
     "text": [
      "RMSE :  15.94423686102096\n"
     ]
    },
    {
     "data": {
      "text/plain": [
       "RandomForestRegressor(bootstrap=True, criterion='mse', max_depth=None,\n",
       "                      max_features='auto', max_leaf_nodes=None,\n",
       "                      min_impurity_decrease=0.0, min_impurity_split=None,\n",
       "                      min_samples_leaf=1, min_samples_split=2,\n",
       "                      min_weight_fraction_leaf=0.0, n_estimators=10,\n",
       "                      n_jobs=None, oob_score=False, random_state=None,\n",
       "                      verbose=0, warm_start=False)"
      ]
     },
     "execution_count": 52,
     "metadata": {},
     "output_type": "execute_result"
    }
   ],
   "source": [
    "rf = gsh.RandomForestReg(X_train,X_test,y_train,y_test)\n",
    "rf"
   ]
  },
  {
   "cell_type": "code",
   "execution_count": 53,
   "metadata": {},
   "outputs": [
    {
     "name": "stdout",
     "output_type": "stream",
     "text": [
      "RMSE :  15.709145308331102\n"
     ]
    },
    {
     "data": {
      "text/plain": [
       "(array([[0.66216216, 0.64864865, 1.        , ..., 1.        , 0.49854651,\n",
       "         0.78773616],\n",
       "        [0.69594595, 0.66216216, 1.        , ..., 1.        , 0.53708791,\n",
       "         0.77362977],\n",
       "        [0.73648649, 0.69594595, 1.        , ..., 1.        , 0.61516854,\n",
       "         0.77644125],\n",
       "        ...,\n",
       "        [0.52027027, 0.49324324, 0.35714286, ..., 0.15231788, 0.6119403 ,\n",
       "         0.44400446],\n",
       "        [0.52027027, 0.52027027, 0.28571429, ..., 0.        , 0.52373418,\n",
       "         0.4401374 ],\n",
       "        [0.51351351, 0.52027027, 0.21428571, ..., 0.        , 0.59747292,\n",
       "         0.43843004]]),\n",
       " array([[0.50675676, 0.51351351, 0.14285714, ..., 1.        , 0.72541744,\n",
       "         0.44899437],\n",
       "        [0.5       , 0.50675676, 0.07142857, ..., 1.        , 0.72761905,\n",
       "         0.42736799],\n",
       "        [0.50675676, 0.5       , 0.        , ..., 1.        , 0.7033195 ,\n",
       "         0.4455459 ],\n",
       "        ...,\n",
       "        [0.66216216, 0.68243243, 0.42857143, ..., 0.76923077, 0.63210702,\n",
       "         0.59646706],\n",
       "        [0.66216216, 0.66216216, 1.        , ..., 1.        , 0.73300971,\n",
       "         0.64719907],\n",
       "        [0.66216216, 0.66216216, 0.92857143, ..., 1.        , 0.6875    ,\n",
       "         0.65019551]]))"
      ]
     },
     "execution_count": 53,
     "metadata": {},
     "output_type": "execute_result"
    }
   ],
   "source": [
    "gsh.MinMaxScaleModel(\"Random Forest\",rf,X_train,X_test,y_train,y_test)"
   ]
  },
  {
   "cell_type": "code",
   "execution_count": 54,
   "metadata": {},
   "outputs": [
    {
     "name": "stdout",
     "output_type": "stream",
     "text": [
      "RMSE :  15.056461550547393\n"
     ]
    },
    {
     "data": {
      "text/plain": [
       "(array([[ 9.14539521e-01,  8.22690452e-01,  1.42072396e+00, ...,\n",
       "          1.20740423e+00, -1.39989653e-03,  1.41706388e+00],\n",
       "        [ 1.14075650e+00,  9.13141151e-01,  1.42072396e+00, ...,\n",
       "          1.20740423e+00,  1.66318008e-01,  1.34305770e+00],\n",
       "        [ 1.41221688e+00,  1.13926790e+00,  1.42072396e+00, ...,\n",
       "          1.20740423e+00,  5.06095992e-01,  1.35780753e+00],\n",
       "        ...,\n",
       "        [-3.55718007e-02, -2.17492588e-01, -3.56873704e-01, ...,\n",
       "         -7.90606878e-01,  4.92047886e-01, -3.86251877e-01],\n",
       "        [-3.55718007e-02, -3.65911900e-02, -5.54384556e-01, ...,\n",
       "         -1.14962450e+00,  1.08207497e-01, -4.06539587e-01],\n",
       "        [-8.08151970e-02, -3.65911900e-02, -7.51895408e-01, ...,\n",
       "         -1.14962450e+00,  4.29091226e-01, -4.15496868e-01]]),\n",
       " array([[-0.12605859, -0.08181654, -0.94940626, ...,  1.20740423,\n",
       "          0.9858584 , -0.36007333],\n",
       "        [-0.17130199, -0.12704189, -1.14691711, ...,  1.20740423,\n",
       "          0.99543898, -0.47353161],\n",
       "        [-0.12605859, -0.17226724, -1.34442796, ...,  1.20740423,\n",
       "          0.88969635, -0.37816504],\n",
       "        ...,\n",
       "        [ 0.91453952,  1.0488172 , -0.15936285, ...,  0.66347452,\n",
       "          0.579806  ,  0.41361097],\n",
       "        [ 0.91453952,  0.91314115,  1.42072396, ...,  1.20740423,\n",
       "          1.01889714,  0.67976571],\n",
       "        [ 0.91453952,  0.91314115,  1.22321311, ...,  1.20740423,\n",
       "          0.82085573,  0.69548593]]))"
      ]
     },
     "execution_count": 54,
     "metadata": {},
     "output_type": "execute_result"
    }
   ],
   "source": [
    "gsh.StandardScaleModel(\"Random Forest\",rf,X_train,X_test,y_train,y_test)"
   ]
  },
  {
   "cell_type": "markdown",
   "metadata": {},
   "source": [
    "### Model Tuning"
   ]
  },
  {
   "cell_type": "code",
   "execution_count": 33,
   "metadata": {},
   "outputs": [],
   "source": [
    "params_rf = { #\"max_features\" : [3,5,10,15],\n",
    "              \"n_estimators\" :[10,15]}"
   ]
  },
  {
   "cell_type": "code",
   "execution_count": 34,
   "metadata": {},
   "outputs": [
    {
     "name": "stdout",
     "output_type": "stream",
     "text": [
      "En iyi parametresi :{'n_estimators': 15}\n",
      "Tuned Model RMSE :  15.750776159342292\n"
     ]
    }
   ],
   "source": [
    "tuned_rf = gsh.GridSearchCVR('Random Forest',rf,params_rf,X_train,X_test,y_train, y_test)"
   ]
  },
  {
   "cell_type": "markdown",
   "metadata": {},
   "source": [
    "# Neural Network"
   ]
  },
  {
   "cell_type": "code",
   "execution_count": 55,
   "metadata": {},
   "outputs": [
    {
     "name": "stdout",
     "output_type": "stream",
     "text": [
      "RMSE :  21.687808909935992\n"
     ]
    },
    {
     "data": {
      "text/plain": [
       "MLPRegressor(activation='relu', alpha=0.0001, batch_size='auto', beta_1=0.9,\n",
       "             beta_2=0.999, early_stopping=False, epsilon=1e-08,\n",
       "             hidden_layer_sizes=(100,), learning_rate='constant',\n",
       "             learning_rate_init=0.001, max_iter=200, momentum=0.9,\n",
       "             n_iter_no_change=10, nesterovs_momentum=True, power_t=0.5,\n",
       "             random_state=None, shuffle=True, solver='adam', tol=0.0001,\n",
       "             validation_fraction=0.1, verbose=False, warm_start=False)"
      ]
     },
     "execution_count": 55,
     "metadata": {},
     "output_type": "execute_result"
    }
   ],
   "source": [
    "nn = gsh.NeuralNetworkReg(X_train,X_test,y_train,y_test)\n",
    "nn"
   ]
  },
  {
   "cell_type": "code",
   "execution_count": 56,
   "metadata": {},
   "outputs": [
    {
     "name": "stdout",
     "output_type": "stream",
     "text": [
      "RMSE :  15.506856907556232\n"
     ]
    },
    {
     "data": {
      "text/plain": [
       "(array([[0.66216216, 0.64864865, 1.        , ..., 1.        , 0.49854651,\n",
       "         0.78773616],\n",
       "        [0.69594595, 0.66216216, 1.        , ..., 1.        , 0.53708791,\n",
       "         0.77362977],\n",
       "        [0.73648649, 0.69594595, 1.        , ..., 1.        , 0.61516854,\n",
       "         0.77644125],\n",
       "        ...,\n",
       "        [0.52027027, 0.49324324, 0.35714286, ..., 0.15231788, 0.6119403 ,\n",
       "         0.44400446],\n",
       "        [0.52027027, 0.52027027, 0.28571429, ..., 0.        , 0.52373418,\n",
       "         0.4401374 ],\n",
       "        [0.51351351, 0.52027027, 0.21428571, ..., 0.        , 0.59747292,\n",
       "         0.43843004]]),\n",
       " array([[0.50675676, 0.51351351, 0.14285714, ..., 1.        , 0.72541744,\n",
       "         0.44899437],\n",
       "        [0.5       , 0.50675676, 0.07142857, ..., 1.        , 0.72761905,\n",
       "         0.42736799],\n",
       "        [0.50675676, 0.5       , 0.        , ..., 1.        , 0.7033195 ,\n",
       "         0.4455459 ],\n",
       "        ...,\n",
       "        [0.66216216, 0.68243243, 0.42857143, ..., 0.76923077, 0.63210702,\n",
       "         0.59646706],\n",
       "        [0.66216216, 0.66216216, 1.        , ..., 1.        , 0.73300971,\n",
       "         0.64719907],\n",
       "        [0.66216216, 0.66216216, 0.92857143, ..., 1.        , 0.6875    ,\n",
       "         0.65019551]]))"
      ]
     },
     "execution_count": 56,
     "metadata": {},
     "output_type": "execute_result"
    }
   ],
   "source": [
    "gsh.MinMaxScaleModel(\"Neural Network\",nn,X_train,X_test,y_train,y_test)"
   ]
  },
  {
   "cell_type": "code",
   "execution_count": 57,
   "metadata": {},
   "outputs": [
    {
     "name": "stdout",
     "output_type": "stream",
     "text": [
      "RMSE :  21.94081429200772\n"
     ]
    },
    {
     "data": {
      "text/plain": [
       "(array([[ 9.14539521e-01,  8.22690452e-01,  1.42072396e+00, ...,\n",
       "          1.20740423e+00, -1.39989653e-03,  1.41706388e+00],\n",
       "        [ 1.14075650e+00,  9.13141151e-01,  1.42072396e+00, ...,\n",
       "          1.20740423e+00,  1.66318008e-01,  1.34305770e+00],\n",
       "        [ 1.41221688e+00,  1.13926790e+00,  1.42072396e+00, ...,\n",
       "          1.20740423e+00,  5.06095992e-01,  1.35780753e+00],\n",
       "        ...,\n",
       "        [-3.55718007e-02, -2.17492588e-01, -3.56873704e-01, ...,\n",
       "         -7.90606878e-01,  4.92047886e-01, -3.86251877e-01],\n",
       "        [-3.55718007e-02, -3.65911900e-02, -5.54384556e-01, ...,\n",
       "         -1.14962450e+00,  1.08207497e-01, -4.06539587e-01],\n",
       "        [-8.08151970e-02, -3.65911900e-02, -7.51895408e-01, ...,\n",
       "         -1.14962450e+00,  4.29091226e-01, -4.15496868e-01]]),\n",
       " array([[-0.12605859, -0.08181654, -0.94940626, ...,  1.20740423,\n",
       "          0.9858584 , -0.36007333],\n",
       "        [-0.17130199, -0.12704189, -1.14691711, ...,  1.20740423,\n",
       "          0.99543898, -0.47353161],\n",
       "        [-0.12605859, -0.17226724, -1.34442796, ...,  1.20740423,\n",
       "          0.88969635, -0.37816504],\n",
       "        ...,\n",
       "        [ 0.91453952,  1.0488172 , -0.15936285, ...,  0.66347452,\n",
       "          0.579806  ,  0.41361097],\n",
       "        [ 0.91453952,  0.91314115,  1.42072396, ...,  1.20740423,\n",
       "          1.01889714,  0.67976571],\n",
       "        [ 0.91453952,  0.91314115,  1.22321311, ...,  1.20740423,\n",
       "          0.82085573,  0.69548593]]))"
      ]
     },
     "execution_count": 57,
     "metadata": {},
     "output_type": "execute_result"
    }
   ],
   "source": [
    "gsh.StandardScaleModel(\"Neural Network\",nn,X_train,X_test,y_train,y_test)"
   ]
  },
  {
   "cell_type": "markdown",
   "metadata": {},
   "source": [
    "### Model Tuning"
   ]
  },
  {
   "cell_type": "code",
   "execution_count": 38,
   "metadata": {},
   "outputs": [],
   "source": [
    "params_nn = {'alpha' : [0.1,0.01,0.02],\n",
    "             \n",
    "            # 'activation' : ['relu', 'logistic']\n",
    "            }"
   ]
  },
  {
   "cell_type": "code",
   "execution_count": 39,
   "metadata": {},
   "outputs": [
    {
     "name": "stdout",
     "output_type": "stream",
     "text": [
      "En iyi parametresi :{'alpha': 0.1}\n",
      "Tuned Model RMSE :  20.65099894772258\n"
     ]
    }
   ],
   "source": [
    "tuned_nn = gsh.GridSearchCVR('Neural Network',nn,params_nn,X_train,X_test,y_train, y_test)"
   ]
  },
  {
   "cell_type": "markdown",
   "metadata": {},
   "source": [
    "# SVM"
   ]
  },
  {
   "cell_type": "code",
   "execution_count": 58,
   "metadata": {},
   "outputs": [
    {
     "name": "stdout",
     "output_type": "stream",
     "text": [
      "RMSE :  14.451186980535283\n"
     ]
    },
    {
     "data": {
      "text/plain": [
       "SVR(C=1.0, cache_size=200, coef0=0.0, degree=3, epsilon=0.1,\n",
       "    gamma='auto_deprecated', kernel='rbf', max_iter=-1, shrinking=True,\n",
       "    tol=0.001, verbose=False)"
      ]
     },
     "execution_count": 58,
     "metadata": {},
     "output_type": "execute_result"
    }
   ],
   "source": [
    "svr = gsh.SVMReg(X_train,X_test,y_train,y_test)\n",
    "svr"
   ]
  },
  {
   "cell_type": "code",
   "execution_count": 27,
   "metadata": {},
   "outputs": [
    {
     "name": "stdout",
     "output_type": "stream",
     "text": [
      "RMSE :  14.434125406358046\n"
     ]
    },
    {
     "data": {
      "text/plain": [
       "(array([[0.66216216, 0.64864865, 1.        , ..., 1.        , 0.49854651,\n",
       "         0.78773616],\n",
       "        [0.69594595, 0.66216216, 1.        , ..., 1.        , 0.53708791,\n",
       "         0.77362977],\n",
       "        [0.73648649, 0.69594595, 1.        , ..., 1.        , 0.61516854,\n",
       "         0.77644125],\n",
       "        ...,\n",
       "        [0.52027027, 0.49324324, 0.35714286, ..., 0.15231788, 0.6119403 ,\n",
       "         0.44400446],\n",
       "        [0.52027027, 0.52027027, 0.28571429, ..., 0.        , 0.52373418,\n",
       "         0.4401374 ],\n",
       "        [0.51351351, 0.52027027, 0.21428571, ..., 0.        , 0.59747292,\n",
       "         0.43843004]]),\n",
       " array([[0.50675676, 0.51351351, 0.14285714, ..., 1.        , 0.72541744,\n",
       "         0.44899437],\n",
       "        [0.5       , 0.50675676, 0.07142857, ..., 1.        , 0.72761905,\n",
       "         0.42736799],\n",
       "        [0.50675676, 0.5       , 0.        , ..., 1.        , 0.7033195 ,\n",
       "         0.4455459 ],\n",
       "        ...,\n",
       "        [0.66216216, 0.68243243, 0.42857143, ..., 0.76923077, 0.63210702,\n",
       "         0.59646706],\n",
       "        [0.66216216, 0.66216216, 1.        , ..., 1.        , 0.73300971,\n",
       "         0.64719907],\n",
       "        [0.66216216, 0.66216216, 0.92857143, ..., 1.        , 0.6875    ,\n",
       "         0.65019551]]))"
      ]
     },
     "execution_count": 27,
     "metadata": {},
     "output_type": "execute_result"
    }
   ],
   "source": [
    "gsh.MinMaxScaleModel(\"SVM\",svr,X_train,X_test,y_train,y_test)"
   ]
  },
  {
   "cell_type": "code",
   "execution_count": 28,
   "metadata": {},
   "outputs": [
    {
     "name": "stdout",
     "output_type": "stream",
     "text": [
      "RMSE :  15.0895585244795\n"
     ]
    },
    {
     "data": {
      "text/plain": [
       "(array([[ 9.14539521e-01,  8.22690452e-01,  1.42072396e+00, ...,\n",
       "          1.20740423e+00, -1.39989653e-03,  1.41706388e+00],\n",
       "        [ 1.14075650e+00,  9.13141151e-01,  1.42072396e+00, ...,\n",
       "          1.20740423e+00,  1.66318008e-01,  1.34305770e+00],\n",
       "        [ 1.41221688e+00,  1.13926790e+00,  1.42072396e+00, ...,\n",
       "          1.20740423e+00,  5.06095992e-01,  1.35780753e+00],\n",
       "        ...,\n",
       "        [-3.55718007e-02, -2.17492588e-01, -3.56873704e-01, ...,\n",
       "         -7.90606878e-01,  4.92047886e-01, -3.86251877e-01],\n",
       "        [-3.55718007e-02, -3.65911900e-02, -5.54384556e-01, ...,\n",
       "         -1.14962450e+00,  1.08207497e-01, -4.06539587e-01],\n",
       "        [-8.08151970e-02, -3.65911900e-02, -7.51895408e-01, ...,\n",
       "         -1.14962450e+00,  4.29091226e-01, -4.15496868e-01]]),\n",
       " array([[-0.12605859, -0.08181654, -0.94940626, ...,  1.20740423,\n",
       "          0.9858584 , -0.36007333],\n",
       "        [-0.17130199, -0.12704189, -1.14691711, ...,  1.20740423,\n",
       "          0.99543898, -0.47353161],\n",
       "        [-0.12605859, -0.17226724, -1.34442796, ...,  1.20740423,\n",
       "          0.88969635, -0.37816504],\n",
       "        ...,\n",
       "        [ 0.91453952,  1.0488172 , -0.15936285, ...,  0.66347452,\n",
       "          0.579806  ,  0.41361097],\n",
       "        [ 0.91453952,  0.91314115,  1.42072396, ...,  1.20740423,\n",
       "          1.01889714,  0.67976571],\n",
       "        [ 0.91453952,  0.91314115,  1.22321311, ...,  1.20740423,\n",
       "          0.82085573,  0.69548593]]))"
      ]
     },
     "execution_count": 28,
     "metadata": {},
     "output_type": "execute_result"
    }
   ],
   "source": [
    "gsh.StandardScaleModel(\"SVM\",svr,X_train,X_test,y_train,y_test)"
   ]
  },
  {
   "cell_type": "markdown",
   "metadata": {},
   "source": [
    "### Model Tuning"
   ]
  },
  {
   "cell_type": "code",
   "execution_count": null,
   "metadata": {},
   "outputs": [],
   "source": [
    "params_svr = {'kernel': ['sigmoid','linear']}"
   ]
  },
  {
   "cell_type": "code",
   "execution_count": null,
   "metadata": {},
   "outputs": [],
   "source": [
    "tuned_svr =gsh.GridSearchCVR('SVM',svr,params_svr,X_train,X_test,y_train, y_test)"
   ]
  },
  {
   "cell_type": "markdown",
   "metadata": {},
   "source": [
    "# KNN"
   ]
  },
  {
   "cell_type": "code",
   "execution_count": 59,
   "metadata": {},
   "outputs": [
    {
     "name": "stdout",
     "output_type": "stream",
     "text": [
      "RMSE :  16.37904591276598\n"
     ]
    },
    {
     "data": {
      "text/plain": [
       "KNeighborsRegressor(algorithm='auto', leaf_size=30, metric='minkowski',\n",
       "                    metric_params=None, n_jobs=None, n_neighbors=5, p=2,\n",
       "                    weights='uniform')"
      ]
     },
     "execution_count": 59,
     "metadata": {},
     "output_type": "execute_result"
    }
   ],
   "source": [
    "knn = gsh.KNNReg(X_train,X_test,y_train,y_test)\n",
    "knn"
   ]
  },
  {
   "cell_type": "code",
   "execution_count": 60,
   "metadata": {},
   "outputs": [
    {
     "name": "stdout",
     "output_type": "stream",
     "text": [
      "RMSE :  14.434125406358046\n"
     ]
    },
    {
     "data": {
      "text/plain": [
       "(array([[0.66216216, 0.64864865, 1.        , ..., 1.        , 0.49854651,\n",
       "         0.78773616],\n",
       "        [0.69594595, 0.66216216, 1.        , ..., 1.        , 0.53708791,\n",
       "         0.77362977],\n",
       "        [0.73648649, 0.69594595, 1.        , ..., 1.        , 0.61516854,\n",
       "         0.77644125],\n",
       "        ...,\n",
       "        [0.52027027, 0.49324324, 0.35714286, ..., 0.15231788, 0.6119403 ,\n",
       "         0.44400446],\n",
       "        [0.52027027, 0.52027027, 0.28571429, ..., 0.        , 0.52373418,\n",
       "         0.4401374 ],\n",
       "        [0.51351351, 0.52027027, 0.21428571, ..., 0.        , 0.59747292,\n",
       "         0.43843004]]),\n",
       " array([[0.50675676, 0.51351351, 0.14285714, ..., 1.        , 0.72541744,\n",
       "         0.44899437],\n",
       "        [0.5       , 0.50675676, 0.07142857, ..., 1.        , 0.72761905,\n",
       "         0.42736799],\n",
       "        [0.50675676, 0.5       , 0.        , ..., 1.        , 0.7033195 ,\n",
       "         0.4455459 ],\n",
       "        ...,\n",
       "        [0.66216216, 0.68243243, 0.42857143, ..., 0.76923077, 0.63210702,\n",
       "         0.59646706],\n",
       "        [0.66216216, 0.66216216, 1.        , ..., 1.        , 0.73300971,\n",
       "         0.64719907],\n",
       "        [0.66216216, 0.66216216, 0.92857143, ..., 1.        , 0.6875    ,\n",
       "         0.65019551]]))"
      ]
     },
     "execution_count": 60,
     "metadata": {},
     "output_type": "execute_result"
    }
   ],
   "source": [
    "gsh.MinMaxScaleModel(\"SVM\",svr,X_train,X_test,y_train,y_test)"
   ]
  },
  {
   "cell_type": "code",
   "execution_count": 61,
   "metadata": {},
   "outputs": [
    {
     "name": "stdout",
     "output_type": "stream",
     "text": [
      "RMSE :  15.0895585244795\n"
     ]
    },
    {
     "data": {
      "text/plain": [
       "(array([[ 9.14539521e-01,  8.22690452e-01,  1.42072396e+00, ...,\n",
       "          1.20740423e+00, -1.39989653e-03,  1.41706388e+00],\n",
       "        [ 1.14075650e+00,  9.13141151e-01,  1.42072396e+00, ...,\n",
       "          1.20740423e+00,  1.66318008e-01,  1.34305770e+00],\n",
       "        [ 1.41221688e+00,  1.13926790e+00,  1.42072396e+00, ...,\n",
       "          1.20740423e+00,  5.06095992e-01,  1.35780753e+00],\n",
       "        ...,\n",
       "        [-3.55718007e-02, -2.17492588e-01, -3.56873704e-01, ...,\n",
       "         -7.90606878e-01,  4.92047886e-01, -3.86251877e-01],\n",
       "        [-3.55718007e-02, -3.65911900e-02, -5.54384556e-01, ...,\n",
       "         -1.14962450e+00,  1.08207497e-01, -4.06539587e-01],\n",
       "        [-8.08151970e-02, -3.65911900e-02, -7.51895408e-01, ...,\n",
       "         -1.14962450e+00,  4.29091226e-01, -4.15496868e-01]]),\n",
       " array([[-0.12605859, -0.08181654, -0.94940626, ...,  1.20740423,\n",
       "          0.9858584 , -0.36007333],\n",
       "        [-0.17130199, -0.12704189, -1.14691711, ...,  1.20740423,\n",
       "          0.99543898, -0.47353161],\n",
       "        [-0.12605859, -0.17226724, -1.34442796, ...,  1.20740423,\n",
       "          0.88969635, -0.37816504],\n",
       "        ...,\n",
       "        [ 0.91453952,  1.0488172 , -0.15936285, ...,  0.66347452,\n",
       "          0.579806  ,  0.41361097],\n",
       "        [ 0.91453952,  0.91314115,  1.42072396, ...,  1.20740423,\n",
       "          1.01889714,  0.67976571],\n",
       "        [ 0.91453952,  0.91314115,  1.22321311, ...,  1.20740423,\n",
       "          0.82085573,  0.69548593]]))"
      ]
     },
     "execution_count": 61,
     "metadata": {},
     "output_type": "execute_result"
    }
   ],
   "source": [
    "gsh.StandardScaleModel(\"SVM\",svr,X_train,X_test,y_train,y_test)"
   ]
  },
  {
   "cell_type": "markdown",
   "metadata": {},
   "source": [
    "### Model Tuning"
   ]
  },
  {
   "cell_type": "code",
   "execution_count": null,
   "metadata": {},
   "outputs": [],
   "source": [
    "params_knn = {\"n_neighbors\": np.arange(1,50,1),\n",
    "          #\"weights\": [\"uniform\",\"distance\"],\n",
    "          #\"metric\" :[\"minkowski\", \"euclidean\",\"manhattan\"]\n",
    "             }"
   ]
  },
  {
   "cell_type": "code",
   "execution_count": null,
   "metadata": {},
   "outputs": [],
   "source": [
    "tuned_knn = gsh.GridSearchCVR('KNN',knn,params_knn,X_train,X_test,y_train, y_test)"
   ]
  },
  {
   "cell_type": "markdown",
   "metadata": {},
   "source": [
    "# All RMSE"
   ]
  },
  {
   "cell_type": "code",
   "execution_count": 62,
   "metadata": {},
   "outputs": [
    {
     "data": {
      "text/html": [
       "<div>\n",
       "<style scoped>\n",
       "    .dataframe tbody tr th:only-of-type {\n",
       "        vertical-align: middle;\n",
       "    }\n",
       "\n",
       "    .dataframe tbody tr th {\n",
       "        vertical-align: top;\n",
       "    }\n",
       "\n",
       "    .dataframe thead th {\n",
       "        text-align: right;\n",
       "    }\n",
       "</style>\n",
       "<table border=\"1\" class=\"dataframe\">\n",
       "  <thead>\n",
       "    <tr style=\"text-align: right;\">\n",
       "      <th></th>\n",
       "      <th>RMSE</th>\n",
       "      <th>RMSE_MinMaxScaled</th>\n",
       "      <th>RMSE_StandardScaled</th>\n",
       "      <th>PCA</th>\n",
       "      <th>Tuned</th>\n",
       "    </tr>\n",
       "  </thead>\n",
       "  <tbody>\n",
       "    <tr>\n",
       "      <td>Linear</td>\n",
       "      <td>16.5054</td>\n",
       "      <td>NaN</td>\n",
       "      <td>NaN</td>\n",
       "      <td>NaN</td>\n",
       "      <td>NaN</td>\n",
       "    </tr>\n",
       "    <tr>\n",
       "      <td>Decision Tree</td>\n",
       "      <td>21.365</td>\n",
       "      <td>21.2846</td>\n",
       "      <td>21.1455</td>\n",
       "      <td>20.6573</td>\n",
       "      <td>NaN</td>\n",
       "    </tr>\n",
       "    <tr>\n",
       "      <td>Random Forest</td>\n",
       "      <td>15.9442</td>\n",
       "      <td>15.7091</td>\n",
       "      <td>15.0565</td>\n",
       "      <td>NaN</td>\n",
       "      <td>NaN</td>\n",
       "    </tr>\n",
       "    <tr>\n",
       "      <td>Neural Network</td>\n",
       "      <td>21.6878</td>\n",
       "      <td>15.5069</td>\n",
       "      <td>21.9408</td>\n",
       "      <td>NaN</td>\n",
       "      <td>NaN</td>\n",
       "    </tr>\n",
       "    <tr>\n",
       "      <td>SVM</td>\n",
       "      <td>14.4512</td>\n",
       "      <td>14.4341</td>\n",
       "      <td>15.0896</td>\n",
       "      <td>NaN</td>\n",
       "      <td>NaN</td>\n",
       "    </tr>\n",
       "    <tr>\n",
       "      <td>KNN</td>\n",
       "      <td>16.379</td>\n",
       "      <td>NaN</td>\n",
       "      <td>NaN</td>\n",
       "      <td>NaN</td>\n",
       "      <td>NaN</td>\n",
       "    </tr>\n",
       "  </tbody>\n",
       "</table>\n",
       "</div>"
      ],
      "text/plain": [
       "                   RMSE RMSE_MinMaxScaled RMSE_StandardScaled      PCA Tuned\n",
       "Linear          16.5054               NaN                 NaN      NaN   NaN\n",
       "Decision Tree    21.365           21.2846             21.1455  20.6573   NaN\n",
       "Random Forest   15.9442           15.7091             15.0565      NaN   NaN\n",
       "Neural Network  21.6878           15.5069             21.9408      NaN   NaN\n",
       "SVM             14.4512           14.4341             15.0896      NaN   NaN\n",
       "KNN              16.379               NaN                 NaN      NaN   NaN"
      ]
     },
     "execution_count": 62,
     "metadata": {},
     "output_type": "execute_result"
    }
   ],
   "source": [
    "gsh.AllRMSE()"
   ]
  },
  {
   "cell_type": "markdown",
   "metadata": {},
   "source": [
    "# PCA Models"
   ]
  },
  {
   "cell_type": "code",
   "execution_count": 63,
   "metadata": {},
   "outputs": [],
   "source": [
    "gsh.PCAModel(\"Linear\",lr,X_train,X_test,y_train,y_test)"
   ]
  },
  {
   "cell_type": "code",
   "execution_count": 64,
   "metadata": {},
   "outputs": [],
   "source": [
    "gsh.PCAModel(\"Decision Tree\",dt,X_train,X_test,y_train,y_test)"
   ]
  },
  {
   "cell_type": "code",
   "execution_count": 65,
   "metadata": {},
   "outputs": [],
   "source": [
    "gsh.PCAModel(\"Random Forest\",rf,X_train,X_test,y_train,y_test)"
   ]
  },
  {
   "cell_type": "code",
   "execution_count": 66,
   "metadata": {},
   "outputs": [],
   "source": [
    "gsh.PCAModel(\"Neural Network\",nn,X_train,X_test,y_train,y_test)"
   ]
  },
  {
   "cell_type": "code",
   "execution_count": null,
   "metadata": {},
   "outputs": [],
   "source": [
    "gsh.PCAModel(\"SVM\",svr,X_train,X_test,y_train,y_test)"
   ]
  },
  {
   "cell_type": "code",
   "execution_count": 67,
   "metadata": {},
   "outputs": [],
   "source": [
    "gsh.PCAModel(\"KNN\",knn,X_train,X_test,y_train,y_test)"
   ]
  },
  {
   "cell_type": "code",
   "execution_count": 68,
   "metadata": {},
   "outputs": [
    {
     "data": {
      "text/html": [
       "<div>\n",
       "<style scoped>\n",
       "    .dataframe tbody tr th:only-of-type {\n",
       "        vertical-align: middle;\n",
       "    }\n",
       "\n",
       "    .dataframe tbody tr th {\n",
       "        vertical-align: top;\n",
       "    }\n",
       "\n",
       "    .dataframe thead th {\n",
       "        text-align: right;\n",
       "    }\n",
       "</style>\n",
       "<table border=\"1\" class=\"dataframe\">\n",
       "  <thead>\n",
       "    <tr style=\"text-align: right;\">\n",
       "      <th></th>\n",
       "      <th>RMSE</th>\n",
       "      <th>RMSE_MinMaxScaled</th>\n",
       "      <th>RMSE_StandardScaled</th>\n",
       "      <th>PCA</th>\n",
       "      <th>Tuned</th>\n",
       "    </tr>\n",
       "  </thead>\n",
       "  <tbody>\n",
       "    <tr>\n",
       "      <td>Linear</td>\n",
       "      <td>16.5054</td>\n",
       "      <td>NaN</td>\n",
       "      <td>NaN</td>\n",
       "      <td>16.5054</td>\n",
       "      <td>NaN</td>\n",
       "    </tr>\n",
       "    <tr>\n",
       "      <td>Decision Tree</td>\n",
       "      <td>21.365</td>\n",
       "      <td>21.2846</td>\n",
       "      <td>21.1455</td>\n",
       "      <td>20.6853</td>\n",
       "      <td>NaN</td>\n",
       "    </tr>\n",
       "    <tr>\n",
       "      <td>Random Forest</td>\n",
       "      <td>15.9442</td>\n",
       "      <td>15.7091</td>\n",
       "      <td>15.0565</td>\n",
       "      <td>15.4873</td>\n",
       "      <td>NaN</td>\n",
       "    </tr>\n",
       "    <tr>\n",
       "      <td>Neural Network</td>\n",
       "      <td>21.6878</td>\n",
       "      <td>15.5069</td>\n",
       "      <td>21.9408</td>\n",
       "      <td>25.7873</td>\n",
       "      <td>NaN</td>\n",
       "    </tr>\n",
       "    <tr>\n",
       "      <td>SVM</td>\n",
       "      <td>14.4512</td>\n",
       "      <td>14.4341</td>\n",
       "      <td>15.0896</td>\n",
       "      <td>NaN</td>\n",
       "      <td>NaN</td>\n",
       "    </tr>\n",
       "    <tr>\n",
       "      <td>KNN</td>\n",
       "      <td>16.379</td>\n",
       "      <td>NaN</td>\n",
       "      <td>NaN</td>\n",
       "      <td>16.379</td>\n",
       "      <td>NaN</td>\n",
       "    </tr>\n",
       "  </tbody>\n",
       "</table>\n",
       "</div>"
      ],
      "text/plain": [
       "                   RMSE RMSE_MinMaxScaled RMSE_StandardScaled      PCA Tuned\n",
       "Linear          16.5054               NaN                 NaN  16.5054   NaN\n",
       "Decision Tree    21.365           21.2846             21.1455  20.6853   NaN\n",
       "Random Forest   15.9442           15.7091             15.0565  15.4873   NaN\n",
       "Neural Network  21.6878           15.5069             21.9408  25.7873   NaN\n",
       "SVM             14.4512           14.4341             15.0896      NaN   NaN\n",
       "KNN              16.379               NaN                 NaN   16.379   NaN"
      ]
     },
     "execution_count": 68,
     "metadata": {},
     "output_type": "execute_result"
    }
   ],
   "source": [
    "gsh.AllRMSE()"
   ]
  },
  {
   "cell_type": "markdown",
   "metadata": {},
   "source": [
    "# NAIVE BAYES"
   ]
  },
  {
   "cell_type": "code",
   "execution_count": 41,
   "metadata": {},
   "outputs": [
    {
     "data": {
      "image/png": "[encoded data removed]",
      "text/plain": [
       "<Figure size 432x288 with 1 Axes>"
      ]
     },
     "metadata": {
      "needs_background": "light"
     },
     "output_type": "display_data"
    }
   ],
   "source": [
    "plt.hist(dataset['90_target'], bins = 10)\n",
    "plt.show()"
   ]
  },
  {
   "cell_type": "code",
   "execution_count": 42,
   "metadata": {},
   "outputs": [
    {
     "data": {
      "image/png": "[encoded data removed]",
      "text/plain": [
       "<Figure size 432x288 with 1 Axes>"
      ]
     },
     "metadata": {
      "needs_background": "light"
     },
     "output_type": "display_data"
    }
   ],
   "source": [
    "plt.hist(dataset['20_target'], bins = 10)\n",
    "plt.show()"
   ]
  },
  {
   "cell_type": "code",
   "execution_count": 18,
   "metadata": {},
   "outputs": [],
   "source": [
    "dataset['y_90target'] = ['Neg' if each <0   else  'Poz' if each>0  else 'Zero' for each in dataset['90_target']]"
   ]
  },
  {
   "cell_type": "code",
   "execution_count": 19,
   "metadata": {},
   "outputs": [],
   "source": [
    "dataset['y_20target'] = ['Neg' if each <0   else  'Poz' if each>0  else 'Zero' for each in dataset['20_target']]"
   ]
  },
  {
   "cell_type": "code",
   "execution_count": 20,
   "metadata": {},
   "outputs": [],
   "source": [
    "y_ = dataset['y_90target']"
   ]
  },
  {
   "cell_type": "code",
   "execution_count": 21,
   "metadata": {},
   "outputs": [],
   "source": [
    "y_20 = dataset['y_20target']"
   ]
  },
  {
   "cell_type": "code",
   "execution_count": 35,
   "metadata": {},
   "outputs": [
    {
     "data": {
      "text/plain": [
       "(3075, 132)"
      ]
     },
     "execution_count": 35,
     "metadata": {},
     "output_type": "execute_result"
    }
   ],
   "source": [
    "# 90 Target\n",
    "\n",
    "X_train_,X_test_,y_train_,y_test_=train_test_split(X,y_,test_size=0.40,random_state=42,shuffle = False)\n",
    "X_train_.shape\n"
   ]
  },
  {
   "cell_type": "code",
   "execution_count": 37,
   "metadata": {},
   "outputs": [],
   "source": [
    "from sklearn.preprocessing import MinMaxScaler\n",
    "scaler = MinMaxScaler()\n",
    "scaler.fit(X_train_)\n",
    "X_train_s = scaler.transform(X_train_)\n",
    "X_test_s = scaler.transform(X_test_)"
   ]
  },
  {
   "cell_type": "code",
   "execution_count": 38,
   "metadata": {},
   "outputs": [
    {
     "data": {
      "text/plain": [
       "MultinomialNB(alpha=1.0, class_prior=None, fit_prior=True)"
      ]
     },
     "execution_count": 38,
     "metadata": {},
     "output_type": "execute_result"
    }
   ],
   "source": [
    "mnb = MultinomialNB()\n",
    "mnb_model = mnb.fit(X_train_s, y_train_)\n",
    "mnb_model"
   ]
  },
  {
   "cell_type": "code",
   "execution_count": 39,
   "metadata": {},
   "outputs": [
    {
     "data": {
      "text/plain": [
       "0.5616772306192102"
      ]
     },
     "execution_count": 39,
     "metadata": {},
     "output_type": "execute_result"
    }
   ],
   "source": [
    "y_pred = mnb_model.predict(X_test_s)\n",
    "accuracy_score(y_pred, y_test_)"
   ]
  },
  {
   "cell_type": "code",
   "execution_count": 40,
   "metadata": {},
   "outputs": [
    {
     "data": {
      "text/plain": [
       "array([[917, 231,  16],\n",
       "       [639, 235,  13],\n",
       "       [  0,   0,   0]], dtype=int64)"
      ]
     },
     "execution_count": 40,
     "metadata": {},
     "output_type": "execute_result"
    }
   ],
   "source": [
    "cm = confusion_matrix(y_test_, y_pred)\n",
    "cm"
   ]
  },
  {
   "cell_type": "code",
   "execution_count": 41,
   "metadata": {},
   "outputs": [
    {
     "name": "stdout",
     "output_type": "stream",
     "text": [
      "              precision    recall  f1-score   support\n",
      "\n",
      "         Neg       0.59      0.79      0.67      1164\n",
      "         Poz       0.50      0.26      0.35       887\n",
      "        Zero       0.00      0.00      0.00         0\n",
      "\n",
      "    accuracy                           0.56      2051\n",
      "   macro avg       0.36      0.35      0.34      2051\n",
      "weighted avg       0.55      0.56      0.53      2051\n",
      "\n"
     ]
    }
   ],
   "source": [
    "print(classification_report(y_test_,y_pred))"
   ]
  },
  {
   "cell_type": "code",
   "execution_count": 42,
   "metadata": {},
   "outputs": [
    {
     "data": {
      "text/plain": [
       "(3588, 132)"
      ]
     },
     "execution_count": 42,
     "metadata": {},
     "output_type": "execute_result"
    }
   ],
   "source": [
    "# 20 target\n",
    "\n",
    "X_train_20,X_test_20,y_train_20,y_test_20=train_test_split(X,y_20,test_size=0.3,random_state=42,shuffle = False)\n",
    "X_train_20.shape"
   ]
  },
  {
   "cell_type": "code",
   "execution_count": 43,
   "metadata": {},
   "outputs": [],
   "source": [
    "from sklearn.preprocessing import MinMaxScaler\n",
    "scaler = MinMaxScaler()\n",
    "scaler.fit(X_train_20)\n",
    "X_train_s = scaler.transform(X_train_20)\n",
    "X_test_s = scaler.transform(X_test_20)"
   ]
  },
  {
   "cell_type": "code",
   "execution_count": 44,
   "metadata": {},
   "outputs": [
    {
     "data": {
      "text/plain": [
       "MultinomialNB(alpha=1.0, class_prior=None, fit_prior=True)"
      ]
     },
     "execution_count": 44,
     "metadata": {},
     "output_type": "execute_result"
    }
   ],
   "source": [
    "mnb_20 = MultinomialNB()\n",
    "mnb_model_20 = mnb_20.fit(X_train_s, y_train_20)\n",
    "mnb_model_20"
   ]
  },
  {
   "cell_type": "code",
   "execution_count": 45,
   "metadata": {},
   "outputs": [
    {
     "data": {
      "text/plain": [
       "0.5123537061118335"
      ]
     },
     "execution_count": 45,
     "metadata": {},
     "output_type": "execute_result"
    }
   ],
   "source": [
    "y_pred = mnb_model_20.predict(X_test_s)\n",
    "accuracy_score(y_pred, y_test_20)"
   ]
  },
  {
   "cell_type": "code",
   "execution_count": 46,
   "metadata": {},
   "outputs": [
    {
     "name": "stdout",
     "output_type": "stream",
     "text": [
      "              precision    recall  f1-score   support\n",
      "\n",
      "         Neg       0.52      0.74      0.61       764\n",
      "         Poz       0.50      0.31      0.38       721\n",
      "        Zero       0.00      0.00      0.00        53\n",
      "\n",
      "    accuracy                           0.51      1538\n",
      "   macro avg       0.34      0.35      0.33      1538\n",
      "weighted avg       0.49      0.51      0.48      1538\n",
      "\n"
     ]
    }
   ],
   "source": [
    "print(classification_report(y_test_20,y_pred))"
   ]
  },
  {
   "cell_type": "code",
   "execution_count": 47,
   "metadata": {},
   "outputs": [
    {
     "data": {
      "text/plain": [
       "0.512263099219621"
      ]
     },
     "execution_count": 47,
     "metadata": {},
     "output_type": "execute_result"
    }
   ],
   "source": [
    "y_pred_t = mnb_model_20.predict(X_train_s)\n",
    "accuracy_score(y_pred_t, y_train_20)"
   ]
  },
  {
   "cell_type": "code",
   "execution_count": 48,
   "metadata": {},
   "outputs": [
    {
     "name": "stdout",
     "output_type": "stream",
     "text": [
      "              precision    recall  f1-score   support\n",
      "\n",
      "         Neg       0.50      0.63      0.56      1666\n",
      "         Poz       0.53      0.47      0.50      1697\n",
      "        Zero       0.00      0.00      0.00       225\n",
      "\n",
      "    accuracy                           0.51      3588\n",
      "   macro avg       0.34      0.36      0.35      3588\n",
      "weighted avg       0.48      0.51      0.49      3588\n",
      "\n"
     ]
    }
   ],
   "source": [
    "print(classification_report(y_train_20,y_pred_t))"
   ]
  },
  {
   "cell_type": "markdown",
   "metadata": {},
   "source": [
    "# K Means"
   ]
  },
  {
   "cell_type": "code",
   "execution_count": 31,
   "metadata": {},
   "outputs": [
    {
     "name": "stdout",
     "output_type": "stream",
     "text": [
      "\n"
     ]
    },
    {
     "data": {
      "image/png": "[encoded data removed]",
      "text/plain": [
       "<Figure size 432x288 with 1 Axes>"
      ]
     },
     "metadata": {
      "needs_background": "light"
     },
     "output_type": "display_data"
    }
   ],
   "source": [
    "K = range(1,7)\n",
    "vc = Classes.Visualizer()\n",
    "elbow = vc.Elbow(K,X)"
   ]
  },
  {
   "cell_type": "code",
   "execution_count": 32,
   "metadata": {},
   "outputs": [],
   "source": [
    "cluster = gsh.Kmeans(X,3)"
   ]
  },
  {
   "cell_type": "markdown",
   "metadata": {},
   "source": [
    "# Hiyerarşik Kümeleme"
   ]
  },
  {
   "cell_type": "code",
   "execution_count": 33,
   "metadata": {},
   "outputs": [],
   "source": [
    "kmeans = KMeans(n_clusters = 3)\n",
    "clusters = kmeans.fit_predict(X)"
   ]
  },
  {
   "cell_type": "code",
   "execution_count": 34,
   "metadata": {},
   "outputs": [
    {
     "data": {
      "image/png": "[encoded data removed]",
      "text/plain": [
       "<Figure size 432x288 with 1 Axes>"
      ]
     },
     "metadata": {
      "needs_background": "light"
     },
     "output_type": "display_data"
    }
   ],
   "source": [
    "import scipy.cluster.hierarchy as sch\n",
    "#Lets create a dendrogram variable linkage is actually the algorithm #itself of hierarchical clustering and then in linkage we have to #specify on which data we apply and engage. This is X dataset\n",
    "dendrogram = sch.dendrogram(sch.linkage(X, method  = \"ward\"))\n",
    "plt.title('Dendrogram')\n",
    "plt.xlabel('Customers')\n",
    "plt.ylabel('Euclidean distances')\n",
    "plt.show()"
   ]
  },
  {
   "cell_type": "code",
   "execution_count": null,
   "metadata": {},
   "outputs": [],
   "source": []
  }
 ],
 "metadata": {
  "kernelspec": {
   "display_name": "Python 3",
   "language": "python",
   "name": "python3"
  },
  "language_info": {
   "codemirror_mode": {
    "name": "ipython",
    "version": 3
   },
   "file_extension": ".py",
   "mimetype": "text/x-python",
   "name": "python",
   "nbconvert_exporter": "python",
   "pygments_lexer": "ipython3",
   "version": "3.6.9"
  }
 },
 "nbformat": 4,
 "nbformat_minor": 2
}
