{
 "cells": [
  {
   "cell_type": "code",
   "execution_count": 1,
   "metadata": {},
   "outputs": [
    {
     "name": "stdout",
     "output_type": "stream",
     "text": [
      "importing Jupyter notebook from Classes.ipynb\n"
     ]
    },
    {
     "name": "stderr",
     "output_type": "stream",
     "text": [
      "C:\\Users\\Asiye\\Anaconda3\\lib\\site-packages\\sklearn\\externals\\six.py:31: DeprecationWarning: The module is deprecated in version 0.21 and will be removed in version 0.23 since we've dropped support for Python 2.7. Please rely on the official version of six (https://pypi.org/project/six/).\n",
      "  \"(https://pypi.org/project/six/).\", DeprecationWarning)\n"
     ]
    }
   ],
   "source": [
    "import pandas as pd\n",
    "import numpy as np\n",
    "import import_ipynb\n",
    "import Classes \n",
    "\n",
    "\n",
    "# Visualize\n",
    "\n",
    "import matplotlib.pyplot as plt\n",
    "from termcolor import colored\n",
    "from sklearn.tree import export_graphviz\n",
    "from sklearn.externals.six import StringIO  \n",
    "from IPython.display import Image  \n",
    "import pydotplus\n",
    "import seaborn as sns\n",
    "\n",
    "\n",
    "from sklearn import metrics\n",
    "from sklearn.model_selection import train_test_split, GridSearchCV, cross_val_score\n",
    "from sklearn.metrics import classification_report, confusion_matrix, accuracy_score\n",
    "from sklearn.preprocessing import StandardScaler\n",
    "from sklearn.model_selection import RandomizedSearchCV\n",
    "from sklearn.metrics import mean_squared_error\n",
    "from imblearn.over_sampling import SMOTE\n",
    "from scipy.stats import shapiro\n",
    "\n",
    "\n",
    "#Classification Algorithms\n",
    "\n",
    "from sklearn.linear_model import LogisticRegression\n",
    "from sklearn.tree import DecisionTreeClassifier\n",
    "from sklearn.ensemble import RandomForestClassifier\n",
    "from sklearn.neural_network import MLPClassifier\n",
    "from sklearn.svm import SVC\n",
    "from sklearn.naive_bayes import GaussianNB, MultinomialNB, BernoulliNB\n",
    "from sklearn.neighbors import KNeighborsClassifier\n",
    "\n",
    "# Regression Algorithms\n",
    "\n",
    "from sklearn.linear_model import LinearRegression\n",
    "from sklearn.tree import DecisionTreeRegressor\n",
    "from sklearn.ensemble import RandomForestRegressor\n",
    "from sklearn.neural_network import MLPRegressor\n",
    "from sklearn.svm import SVR\n",
    "from sklearn.neighbors import KNeighborsRegressor\n",
    "\n",
    "\n"
   ]
  },
  {
   "cell_type": "code",
   "execution_count": 2,
   "metadata": {},
   "outputs": [],
   "source": [
    "data = pd.read_csv(\"hmelq.csv\")"
   ]
  },
  {
   "cell_type": "markdown",
   "metadata": {},
   "source": [
    "<ul>\n",
    "    <li>BAD: 1 = applicant defaulted on loan or seriously delinquent; 0 = applicant paid loan</li>\n",
    "<li>LOAN: Amount of the loan request</li>\n",
    "<li>MORTDUE: Amount due on existing mortgage</li>\n",
    "<li>VALUE: Value of current property</li>\n",
    "<li>REASON: DebtCon = debt consolidation; HomeImp = home improvement</li>\n",
    "<li>JOB: Occupational categories</li>\n",
    "<li>YOJ: Years at present job</li>\n",
    "<li>DEROG: Number of major derogatory reports</li>\n",
    "<li>DELINQ: Number of delinquent credit lines</li>\n",
    "<li>CLAGE: Age of oldest credit line in months</li>\n",
    "<li>NINQ: Number of recent credit inquiries</li>\n",
    "<li>CLNO: Number of credit lines</li>\n",
    "    </ul>"
   ]
  },
  {
   "cell_type": "code",
   "execution_count": 3,
   "metadata": {},
   "outputs": [
    {
     "name": "stdout",
     "output_type": "stream",
     "text": [
      "--------------------------  DATA HEAD --------------------------\n",
      "\n",
      "   bad   loan   mortdue     value   reason  job   yoj  derog  delinq   clage  \\\n",
      "0    0  81200   18834.0  108355.0  HomeImp  NaN  28.0    0.0     0.0  139.14   \n",
      "1    0  12600  103960.0  127384.0  DebtCon  NaN   2.0    0.0     0.0  129.02   \n",
      "2    0  18000   46865.0   61266.0  DebtCon  NaN   5.0    0.0     0.0  102.59   \n",
      "3    0  10300   57676.0   71027.0  DebtCon  NaN  19.0    0.0     0.0  157.52   \n",
      "4    0   9400   56508.0   78358.0  DebtCon  NaN  17.0    0.0     0.0  141.93   \n",
      "\n",
      "   ninq  clno  debtinc  \n",
      "0   0.0  14.0   34.042  \n",
      "1   0.0  25.0   34.479  \n",
      "2   2.0   9.0   26.354  \n",
      "3   1.0  11.0   33.992  \n",
      "4   0.0  11.0   32.327  \n",
      "\n",
      "--------------------------  DATA DESCRIBE --------------------------\n",
      "\n",
      "          count           mean           std      min       25%        50%  \\\n",
      "bad      3576.0       0.199385      0.399594     0.00      0.00      0.000   \n",
      "loan     3576.0   18529.697987  11262.834060  1100.00  11000.00  16200.000   \n",
      "mortdue  3262.0   74013.907992  44016.833772  2619.00  46700.25  65858.000   \n",
      "value    3512.0  101076.922759  54865.275351  8800.00  65753.00  89183.000   \n",
      "yoj      3264.0       8.832644      7.568046     0.00      3.00      7.000   \n",
      "derog    3149.0       0.261670      0.865178     0.00      0.00      0.000   \n",
      "delinq   3225.0       0.432558      1.099230     0.00      0.00      0.000   \n",
      "clage    3397.0     179.832529     87.066198     0.49    115.60    173.640   \n",
      "ninq     3273.0       1.186373      1.728723     0.00      0.00      1.000   \n",
      "clno     3443.0      21.507116     10.167490     0.00     15.00     20.000   \n",
      "debtinc  2809.0      33.831737      9.061837     0.72     29.14     34.747   \n",
      "\n",
      "               75%         max  \n",
      "bad           0.00       1.000  \n",
      "loan      23100.00   89900.000  \n",
      "mortdue   91717.00  399550.000  \n",
      "value    118928.25  850000.000  \n",
      "yoj          13.00      41.000  \n",
      "derog         0.00      10.000  \n",
      "delinq        0.00      15.000  \n",
      "clage       230.71    1168.230  \n",
      "ninq          2.00      17.000  \n",
      "clno         26.00      71.000  \n",
      "debtinc      38.94     203.312  \n",
      "\n",
      "--------------------------  DATA INFO --------------------------\n",
      "\n",
      "<class 'pandas.core.frame.DataFrame'>\n",
      "RangeIndex: 3576 entries, 0 to 3575\n",
      "Data columns (total 13 columns):\n",
      "bad        3576 non-null int64\n",
      "loan       3576 non-null int64\n",
      "mortdue    3262 non-null float64\n",
      "value      3512 non-null float64\n",
      "reason     3429 non-null object\n",
      "job        3409 non-null object\n",
      "yoj        3264 non-null float64\n",
      "derog      3149 non-null float64\n",
      "delinq     3225 non-null float64\n",
      "clage      3397 non-null float64\n",
      "ninq       3273 non-null float64\n",
      "clno       3443 non-null float64\n",
      "debtinc    2809 non-null float64\n",
      "dtypes: float64(9), int64(2), object(2)\n",
      "memory usage: 335.3+ KB\n",
      "None\n",
      "\n",
      "--------------------------  DATA SHAPE --------------------------\n",
      "\n",
      "(3576, 13)\n",
      "\n"
     ]
    }
   ],
   "source": [
    "information = Classes.Information(data)\n",
    "information.data_features()"
   ]
  },
  {
   "cell_type": "code",
   "execution_count": 4,
   "metadata": {},
   "outputs": [
    {
     "data": {
      "text/plain": [
       "0    2863\n",
       "1     713\n",
       "Name: bad, dtype: int64"
      ]
     },
     "execution_count": 4,
     "metadata": {},
     "output_type": "execute_result"
    }
   ],
   "source": [
    "data['bad'].value_counts()"
   ]
  },
  {
   "cell_type": "markdown",
   "metadata": {},
   "source": [
    "# Görselleştirme"
   ]
  },
  {
   "cell_type": "code",
   "execution_count": 5,
   "metadata": {},
   "outputs": [
    {
     "data": {
      "image/png": "[encoded data removed]",
      "text/plain": [
       "<Figure size 1080x1080 with 12 Axes>"
      ]
     },
     "metadata": {
      "needs_background": "light"
     },
     "output_type": "display_data"
    }
   ],
   "source": [
    "fig = plt.figure(figsize = (15,15))\n",
    "ax = fig.gca()\n",
    "data.hist(ax=ax)\n",
    "plt.show()"
   ]
  },
  {
   "cell_type": "code",
   "execution_count": null,
   "metadata": {},
   "outputs": [],
   "source": []
  },
  {
   "cell_type": "code",
   "execution_count": 6,
   "metadata": {},
   "outputs": [
    {
     "data": {
      "image/png": "[encoded data removed]",
      "text/plain": [
       "<Figure size 432x288 with 1 Axes>"
      ]
     },
     "metadata": {
      "needs_background": "light"
     },
     "output_type": "display_data"
    }
   ],
   "source": [
    "sns.countplot(x = 'bad', data = data)\n",
    "plt.show()"
   ]
  },
  {
   "cell_type": "code",
   "execution_count": 7,
   "metadata": {},
   "outputs": [
    {
     "name": "stdout",
     "output_type": "stream",
     "text": [
      "Kredisini Ödeyenler : % 80.06152125279642\n",
      "Kredisini Ödemeyenler : % 19.938478747203582\n"
     ]
    }
   ],
   "source": [
    "count_no_sub = len(data[data['bad']==0])\n",
    "count_sub = len(data[data['bad']==1])\n",
    "pct_of_no_sub = count_no_sub/(count_no_sub+count_sub)\n",
    "print(\"Kredisini Ödeyenler : %\", pct_of_no_sub*100)\n",
    "pct_of_sub = count_sub/(count_no_sub+count_sub)\n",
    "print(\"Kredisini Ödemeyenler : %\", pct_of_sub*100)"
   ]
  },
  {
   "cell_type": "code",
   "execution_count": 8,
   "metadata": {},
   "outputs": [
    {
     "data": {
      "text/html": [
       "<div>\n",
       "<style scoped>\n",
       "    .dataframe tbody tr th:only-of-type {\n",
       "        vertical-align: middle;\n",
       "    }\n",
       "\n",
       "    .dataframe tbody tr th {\n",
       "        vertical-align: top;\n",
       "    }\n",
       "\n",
       "    .dataframe thead th {\n",
       "        text-align: right;\n",
       "    }\n",
       "</style>\n",
       "<table border=\"1\" class=\"dataframe\">\n",
       "  <thead>\n",
       "    <tr style=\"text-align: right;\">\n",
       "      <th></th>\n",
       "      <th>loan</th>\n",
       "      <th>mortdue</th>\n",
       "      <th>value</th>\n",
       "      <th>yoj</th>\n",
       "      <th>derog</th>\n",
       "      <th>delinq</th>\n",
       "      <th>clage</th>\n",
       "      <th>ninq</th>\n",
       "      <th>clno</th>\n",
       "      <th>debtinc</th>\n",
       "    </tr>\n",
       "    <tr>\n",
       "      <th>bad</th>\n",
       "      <th></th>\n",
       "      <th></th>\n",
       "      <th></th>\n",
       "      <th></th>\n",
       "      <th></th>\n",
       "      <th></th>\n",
       "      <th></th>\n",
       "      <th></th>\n",
       "      <th></th>\n",
       "      <th></th>\n",
       "    </tr>\n",
       "  </thead>\n",
       "  <tbody>\n",
       "    <tr>\n",
       "      <td>0</td>\n",
       "      <td>18931.645127</td>\n",
       "      <td>75242.395117</td>\n",
       "      <td>102394.448489</td>\n",
       "      <td>9.031378</td>\n",
       "      <td>0.140732</td>\n",
       "      <td>0.238263</td>\n",
       "      <td>186.338950</td>\n",
       "      <td>1.032692</td>\n",
       "      <td>21.552536</td>\n",
       "      <td>33.179142</td>\n",
       "    </tr>\n",
       "    <tr>\n",
       "      <td>1</td>\n",
       "      <td>16915.708275</td>\n",
       "      <td>69029.488140</td>\n",
       "      <td>95308.460184</td>\n",
       "      <td>8.067533</td>\n",
       "      <td>0.716012</td>\n",
       "      <td>1.174888</td>\n",
       "      <td>153.497474</td>\n",
       "      <td>1.780089</td>\n",
       "      <td>21.323572</td>\n",
       "      <td>40.881416</td>\n",
       "    </tr>\n",
       "  </tbody>\n",
       "</table>\n",
       "</div>"
      ],
      "text/plain": [
       "             loan       mortdue          value       yoj     derog    delinq  \\\n",
       "bad                                                                            \n",
       "0    18931.645127  75242.395117  102394.448489  9.031378  0.140732  0.238263   \n",
       "1    16915.708275  69029.488140   95308.460184  8.067533  0.716012  1.174888   \n",
       "\n",
       "          clage      ninq       clno    debtinc  \n",
       "bad                                              \n",
       "0    186.338950  1.032692  21.552536  33.179142  \n",
       "1    153.497474  1.780089  21.323572  40.881416  "
      ]
     },
     "execution_count": 8,
     "metadata": {},
     "output_type": "execute_result"
    }
   ],
   "source": [
    "data.groupby('bad').mean()"
   ]
  },
  {
   "cell_type": "markdown",
   "metadata": {},
   "source": [
    "# Yorum : \n",
    "\n",
    "<ul>\n",
    "    <li>Kredisini ödeyenlerin( bad =0) , kredi talep miktarı ortalamasının(loan), kredisini ödemeyenlerin(bad =1) kredi talep miktarı ortalamasından yüksektir. Bu durumda kredisini ödeyebilenler yüksek kredi talebinde bulunmuştur diyebiliriz</li>\n",
    "  <li> Negatif rapor sayıları fazla olan bireylerin (derog) çoğukredisini ödememiştir.</li>\n",
    "    <li> Kredilerini ödeyen bireylerin borç/gelir oranı (debtinc) , kredilerini ödeyemeyen bireylerden daha düşüktür</li>\n",
    "</ul>"
   ]
  },
  {
   "cell_type": "code",
   "execution_count": 9,
   "metadata": {},
   "outputs": [
    {
     "data": {
      "text/html": [
       "<div>\n",
       "<style scoped>\n",
       "    .dataframe tbody tr th:only-of-type {\n",
       "        vertical-align: middle;\n",
       "    }\n",
       "\n",
       "    .dataframe tbody tr th {\n",
       "        vertical-align: top;\n",
       "    }\n",
       "\n",
       "    .dataframe thead th {\n",
       "        text-align: right;\n",
       "    }\n",
       "</style>\n",
       "<table border=\"1\" class=\"dataframe\">\n",
       "  <thead>\n",
       "    <tr style=\"text-align: right;\">\n",
       "      <th></th>\n",
       "      <th>bad</th>\n",
       "      <th>loan</th>\n",
       "      <th>mortdue</th>\n",
       "      <th>value</th>\n",
       "      <th>yoj</th>\n",
       "      <th>derog</th>\n",
       "      <th>delinq</th>\n",
       "      <th>clage</th>\n",
       "      <th>ninq</th>\n",
       "      <th>clno</th>\n",
       "      <th>debtinc</th>\n",
       "    </tr>\n",
       "    <tr>\n",
       "      <th>job</th>\n",
       "      <th></th>\n",
       "      <th></th>\n",
       "      <th></th>\n",
       "      <th></th>\n",
       "      <th></th>\n",
       "      <th></th>\n",
       "      <th></th>\n",
       "      <th></th>\n",
       "      <th></th>\n",
       "      <th></th>\n",
       "      <th></th>\n",
       "    </tr>\n",
       "  </thead>\n",
       "  <tbody>\n",
       "    <tr>\n",
       "      <td>Mgr</td>\n",
       "      <td>0.232104</td>\n",
       "      <td>19084.598698</td>\n",
       "      <td>83964.704189</td>\n",
       "      <td>108464.106133</td>\n",
       "      <td>8.919318</td>\n",
       "      <td>0.320707</td>\n",
       "      <td>0.594203</td>\n",
       "      <td>174.285822</td>\n",
       "      <td>1.517564</td>\n",
       "      <td>23.097561</td>\n",
       "      <td>35.307687</td>\n",
       "    </tr>\n",
       "    <tr>\n",
       "      <td>Office</td>\n",
       "      <td>0.131810</td>\n",
       "      <td>18048.857645</td>\n",
       "      <td>68058.197973</td>\n",
       "      <td>94675.024670</td>\n",
       "      <td>8.103011</td>\n",
       "      <td>0.136905</td>\n",
       "      <td>0.445076</td>\n",
       "      <td>178.784840</td>\n",
       "      <td>0.936803</td>\n",
       "      <td>21.425795</td>\n",
       "      <td>34.158283</td>\n",
       "    </tr>\n",
       "    <tr>\n",
       "      <td>Other</td>\n",
       "      <td>0.232006</td>\n",
       "      <td>18006.918239</td>\n",
       "      <td>60064.432343</td>\n",
       "      <td>84251.694202</td>\n",
       "      <td>9.403457</td>\n",
       "      <td>0.313281</td>\n",
       "      <td>0.417183</td>\n",
       "      <td>174.026556</td>\n",
       "      <td>1.333836</td>\n",
       "      <td>19.572139</td>\n",
       "      <td>34.260072</td>\n",
       "    </tr>\n",
       "    <tr>\n",
       "      <td>ProfEx</td>\n",
       "      <td>0.166884</td>\n",
       "      <td>18750.717080</td>\n",
       "      <td>92690.971376</td>\n",
       "      <td>128851.319683</td>\n",
       "      <td>8.731349</td>\n",
       "      <td>0.203911</td>\n",
       "      <td>0.376871</td>\n",
       "      <td>196.769973</td>\n",
       "      <td>0.949728</td>\n",
       "      <td>24.503989</td>\n",
       "      <td>32.622049</td>\n",
       "    </tr>\n",
       "    <tr>\n",
       "      <td>Sales</td>\n",
       "      <td>0.348485</td>\n",
       "      <td>15251.515152</td>\n",
       "      <td>79856.864407</td>\n",
       "      <td>105960.969231</td>\n",
       "      <td>7.476667</td>\n",
       "      <td>0.450000</td>\n",
       "      <td>0.274194</td>\n",
       "      <td>202.301667</td>\n",
       "      <td>0.772727</td>\n",
       "      <td>24.272727</td>\n",
       "      <td>38.326064</td>\n",
       "    </tr>\n",
       "    <tr>\n",
       "      <td>Self</td>\n",
       "      <td>0.295652</td>\n",
       "      <td>27923.478261</td>\n",
       "      <td>102575.392523</td>\n",
       "      <td>147150.513274</td>\n",
       "      <td>7.210185</td>\n",
       "      <td>0.221239</td>\n",
       "      <td>0.551402</td>\n",
       "      <td>176.590526</td>\n",
       "      <td>1.404040</td>\n",
       "      <td>24.271930</td>\n",
       "      <td>36.824762</td>\n",
       "    </tr>\n",
       "  </tbody>\n",
       "</table>\n",
       "</div>"
      ],
      "text/plain": [
       "             bad          loan        mortdue          value       yoj  \\\n",
       "job                                                                      \n",
       "Mgr     0.232104  19084.598698   83964.704189  108464.106133  8.919318   \n",
       "Office  0.131810  18048.857645   68058.197973   94675.024670  8.103011   \n",
       "Other   0.232006  18006.918239   60064.432343   84251.694202  9.403457   \n",
       "ProfEx  0.166884  18750.717080   92690.971376  128851.319683  8.731349   \n",
       "Sales   0.348485  15251.515152   79856.864407  105960.969231  7.476667   \n",
       "Self    0.295652  27923.478261  102575.392523  147150.513274  7.210185   \n",
       "\n",
       "           derog    delinq       clage      ninq       clno    debtinc  \n",
       "job                                                                     \n",
       "Mgr     0.320707  0.594203  174.285822  1.517564  23.097561  35.307687  \n",
       "Office  0.136905  0.445076  178.784840  0.936803  21.425795  34.158283  \n",
       "Other   0.313281  0.417183  174.026556  1.333836  19.572139  34.260072  \n",
       "ProfEx  0.203911  0.376871  196.769973  0.949728  24.503989  32.622049  \n",
       "Sales   0.450000  0.274194  202.301667  0.772727  24.272727  38.326064  \n",
       "Self    0.221239  0.551402  176.590526  1.404040  24.271930  36.824762  "
      ]
     },
     "execution_count": 9,
     "metadata": {},
     "output_type": "execute_result"
    }
   ],
   "source": [
    "# Kategorik değişkenlerin gruplandırılması\n",
    "\n",
    "data.groupby('job').mean()"
   ]
  },
  {
   "cell_type": "markdown",
   "metadata": {},
   "source": [
    "<ul>\n",
    "    <li>Mesleklere göre kredi talep miktarları değişmektedir.(loan)</li>\n",
    "</ul>"
   ]
  },
  {
   "cell_type": "code",
   "execution_count": 10,
   "metadata": {},
   "outputs": [
    {
     "data": {
      "text/html": [
       "<div>\n",
       "<style scoped>\n",
       "    .dataframe tbody tr th:only-of-type {\n",
       "        vertical-align: middle;\n",
       "    }\n",
       "\n",
       "    .dataframe tbody tr th {\n",
       "        vertical-align: top;\n",
       "    }\n",
       "\n",
       "    .dataframe thead th {\n",
       "        text-align: right;\n",
       "    }\n",
       "</style>\n",
       "<table border=\"1\" class=\"dataframe\">\n",
       "  <thead>\n",
       "    <tr style=\"text-align: right;\">\n",
       "      <th></th>\n",
       "      <th>bad</th>\n",
       "      <th>loan</th>\n",
       "      <th>mortdue</th>\n",
       "      <th>value</th>\n",
       "      <th>yoj</th>\n",
       "      <th>derog</th>\n",
       "      <th>delinq</th>\n",
       "      <th>clage</th>\n",
       "      <th>ninq</th>\n",
       "      <th>clno</th>\n",
       "      <th>debtinc</th>\n",
       "    </tr>\n",
       "    <tr>\n",
       "      <th>reason</th>\n",
       "      <th></th>\n",
       "      <th></th>\n",
       "      <th></th>\n",
       "      <th></th>\n",
       "      <th></th>\n",
       "      <th></th>\n",
       "      <th></th>\n",
       "      <th></th>\n",
       "      <th></th>\n",
       "      <th></th>\n",
       "      <th></th>\n",
       "    </tr>\n",
       "  </thead>\n",
       "  <tbody>\n",
       "    <tr>\n",
       "      <td>DebtCon</td>\n",
       "      <td>0.185576</td>\n",
       "      <td>19868.705188</td>\n",
       "      <td>74483.615277</td>\n",
       "      <td>101611.714495</td>\n",
       "      <td>8.551114</td>\n",
       "      <td>0.261098</td>\n",
       "      <td>0.409427</td>\n",
       "      <td>176.176174</td>\n",
       "      <td>1.343708</td>\n",
       "      <td>22.287742</td>\n",
       "      <td>34.301599</td>\n",
       "    </tr>\n",
       "    <tr>\n",
       "      <td>HomeImp</td>\n",
       "      <td>0.230624</td>\n",
       "      <td>15892.911153</td>\n",
       "      <td>73308.909702</td>\n",
       "      <td>100007.497760</td>\n",
       "      <td>9.411429</td>\n",
       "      <td>0.245596</td>\n",
       "      <td>0.455852</td>\n",
       "      <td>185.208453</td>\n",
       "      <td>0.845361</td>\n",
       "      <td>19.905273</td>\n",
       "      <td>33.496014</td>\n",
       "    </tr>\n",
       "  </tbody>\n",
       "</table>\n",
       "</div>"
      ],
      "text/plain": [
       "              bad          loan       mortdue          value       yoj  \\\n",
       "reason                                                                   \n",
       "DebtCon  0.185576  19868.705188  74483.615277  101611.714495  8.551114   \n",
       "HomeImp  0.230624  15892.911153  73308.909702  100007.497760  9.411429   \n",
       "\n",
       "            derog    delinq       clage      ninq       clno    debtinc  \n",
       "reason                                                                   \n",
       "DebtCon  0.261098  0.409427  176.176174  1.343708  22.287742  34.301599  \n",
       "HomeImp  0.245596  0.455852  185.208453  0.845361  19.905273  33.496014  "
      ]
     },
     "execution_count": 10,
     "metadata": {},
     "output_type": "execute_result"
    }
   ],
   "source": [
    "data.groupby('reason').mean()"
   ]
  },
  {
   "cell_type": "markdown",
   "metadata": {},
   "source": [
    "<ul>\n",
    "    <li>Ev kredisi alanların kredi talep tutarları , borç kredisi alanların kredi talep tutarlarından düşüktür.(loan)</li>\n",
    "</ul>\n"
   ]
  },
  {
   "cell_type": "code",
   "execution_count": 11,
   "metadata": {},
   "outputs": [
    {
     "data": {
      "image/png": "[encoded data removed]",
      "text/plain": [
       "<Figure size 432x288 with 1 Axes>"
      ]
     },
     "metadata": {
      "needs_background": "light"
     },
     "output_type": "display_data"
    }
   ],
   "source": [
    "pd.crosstab(data.job,data.bad).plot(kind='bar')\n",
    "plt.title('Mesleklere göre krediyi ödeyip/ödeyememe durumu')\n",
    "plt.xlabel('Meslek')\n",
    "plt.ylabel('Kredi Durum sıklığı')\n",
    "plt.savefig('purchase_fre_job')"
   ]
  },
  {
   "cell_type": "markdown",
   "metadata": {},
   "source": [
    "<ul>\n",
    "    <li>Krediyi ödeyebilme(bad = 0) , büyük ölçüde mesleklere bağlı .Dolayısıyla iş unvanı, sonuç değişkeninin iyi bir öngörücüsü olabilir.</li>\n",
    "    </ul>"
   ]
  },
  {
   "cell_type": "code",
   "execution_count": 12,
   "metadata": {},
   "outputs": [
    {
     "data": {
      "text/plain": [
       "Text(0, 0.5, 'Kredi Durum oranı')"
      ]
     },
     "execution_count": 12,
     "metadata": {},
     "output_type": "execute_result"
    },
    {
     "data": {
      "image/png": "[encoded data removed]",
      "text/plain": [
       "<Figure size 432x288 with 1 Axes>"
      ]
     },
     "metadata": {
      "needs_background": "light"
     },
     "output_type": "display_data"
    }
   ],
   "source": [
    "table=pd.crosstab(data.reason,data.bad)\n",
    "table.div(table.sum(1).astype(float), axis=0).plot(kind='bar', stacked=True)\n",
    "plt.title('Sebep ve Kredi Durumu')\n",
    "plt.xlabel('Reason')\n",
    "plt.ylabel('Kredi Durum oranı')\n"
   ]
  },
  {
   "cell_type": "markdown",
   "metadata": {},
   "source": [
    "<ul><li>Kredi talep sebebi , y değişkeni (Bad) için güçlü bir yorumlayıcı görünmemektedir.</li></ul>"
   ]
  },
  {
   "cell_type": "code",
   "execution_count": 13,
   "metadata": {},
   "outputs": [
    {
     "data": {
      "text/plain": [
       "Text(0, 0.5, 'BAD')"
      ]
     },
     "execution_count": 13,
     "metadata": {},
     "output_type": "execute_result"
    },
    {
     "data": {
      "image/png": "[encoded data removed]",
      "text/plain": [
       "<Figure size 432x288 with 1 Axes>"
      ]
     },
     "metadata": {
      "needs_background": "light"
     },
     "output_type": "display_data"
    }
   ],
   "source": [
    "table=pd.crosstab(data.derog,data.bad)\n",
    "table.div(table.sum(1).astype(float), axis=0).plot(kind='bar', stacked=True)\n",
    "plt.title('derog ve bad')\n",
    "plt.xlabel('Derog')\n",
    "plt.ylabel('BAD')\n"
   ]
  },
  {
   "cell_type": "markdown",
   "metadata": {},
   "source": [
    "<ul><li>Negatif raporlara sahip bireylerin kredilerini ödeyip ödeyememelerinde iyi bir öngörücü olabilir</li></ul>"
   ]
  },
  {
   "cell_type": "markdown",
   "metadata": {},
   "source": [
    "# Preprocess"
   ]
  },
  {
   "cell_type": "code",
   "execution_count": 14,
   "metadata": {},
   "outputs": [
    {
     "name": "stdout",
     "output_type": "stream",
     "text": [
      "\u001b[34m------------  Missing Values  -------------\u001b[0m\n"
     ]
    },
    {
     "data": {
      "text/plain": [
       "debtinc    767\n",
       "derog      427\n",
       "delinq     351\n",
       "mortdue    314\n",
       "yoj        312\n",
       "ninq       303\n",
       "clage      179\n",
       "job        167\n",
       "reason     147\n",
       "clno       133\n",
       "value       64\n",
       "loan         0\n",
       "bad          0\n",
       "dtype: int64"
      ]
     },
     "execution_count": 14,
     "metadata": {},
     "output_type": "execute_result"
    }
   ],
   "source": [
    "p = Classes.Preprocess(data)\n",
    "p.get_missing_values()"
   ]
  },
  {
   "cell_type": "code",
   "execution_count": 15,
   "metadata": {},
   "outputs": [
    {
     "name": "stdout",
     "output_type": "stream",
     "text": [
      "\n"
     ]
    },
    {
     "data": {
      "image/png": "[encoded data removed]",
      "text/plain": [
       "<Figure size 864x432 with 2 Axes>"
      ]
     },
     "metadata": {
      "needs_background": "light"
     },
     "output_type": "display_data"
    }
   ],
   "source": [
    "# Visualize Missing Values\n",
    "\n",
    "v = Classes.Visualizer()\n",
    "v.missing_values(data)"
   ]
  },
  {
   "cell_type": "code",
   "execution_count": 16,
   "metadata": {},
   "outputs": [
    {
     "name": "stdout",
     "output_type": "stream",
     "text": [
      "Drop Öncesi Data Shape -->    (3576, 13)\n",
      "Drop Sonrası Data Shape -->    (2018, 13)\n",
      "\u001b[34m------------  Missing Values  -------------\u001b[0m\n"
     ]
    },
    {
     "data": {
      "text/plain": [
       "debtinc    0\n",
       "clno       0\n",
       "ninq       0\n",
       "clage      0\n",
       "delinq     0\n",
       "derog      0\n",
       "yoj        0\n",
       "job        0\n",
       "reason     0\n",
       "value      0\n",
       "mortdue    0\n",
       "loan       0\n",
       "bad        0\n",
       "dtype: int64"
      ]
     },
     "execution_count": 16,
     "metadata": {},
     "output_type": "execute_result"
    }
   ],
   "source": [
    "# Missing Value lar temizlendi\n",
    "p.drop('any')"
   ]
  },
  {
   "cell_type": "code",
   "execution_count": 17,
   "metadata": {},
   "outputs": [
    {
     "data": {
      "image/png": "[encoded data removed]",
      "text/plain": [
       "<Figure size 864x432 with 2 Axes>"
      ]
     },
     "metadata": {
      "needs_background": "light"
     },
     "output_type": "display_data"
    }
   ],
   "source": [
    "v.missing_values(data)"
   ]
  },
  {
   "cell_type": "code",
   "execution_count": 18,
   "metadata": {},
   "outputs": [
    {
     "data": {
      "text/html": [
       "<div>\n",
       "<style scoped>\n",
       "    .dataframe tbody tr th:only-of-type {\n",
       "        vertical-align: middle;\n",
       "    }\n",
       "\n",
       "    .dataframe tbody tr th {\n",
       "        vertical-align: top;\n",
       "    }\n",
       "\n",
       "    .dataframe thead th {\n",
       "        text-align: right;\n",
       "    }\n",
       "</style>\n",
       "<table border=\"1\" class=\"dataframe\">\n",
       "  <thead>\n",
       "    <tr style=\"text-align: right;\">\n",
       "      <th></th>\n",
       "      <th>bad</th>\n",
       "      <th>loan</th>\n",
       "      <th>mortdue</th>\n",
       "      <th>value</th>\n",
       "      <th>reason</th>\n",
       "      <th>job</th>\n",
       "      <th>yoj</th>\n",
       "      <th>derog</th>\n",
       "      <th>delinq</th>\n",
       "      <th>clage</th>\n",
       "      <th>ninq</th>\n",
       "      <th>clno</th>\n",
       "      <th>debtinc</th>\n",
       "      <th>HomeImp</th>\n",
       "      <th>Office</th>\n",
       "      <th>Other</th>\n",
       "      <th>ProfEx</th>\n",
       "      <th>Sales</th>\n",
       "      <th>Self</th>\n",
       "    </tr>\n",
       "  </thead>\n",
       "  <tbody>\n",
       "    <tr>\n",
       "      <td>153</td>\n",
       "      <td>0</td>\n",
       "      <td>18200</td>\n",
       "      <td>94727.0</td>\n",
       "      <td>136877.0</td>\n",
       "      <td>DebtCon</td>\n",
       "      <td>Mgr</td>\n",
       "      <td>15.0</td>\n",
       "      <td>0.0</td>\n",
       "      <td>0.0</td>\n",
       "      <td>168.96</td>\n",
       "      <td>2.0</td>\n",
       "      <td>26.0</td>\n",
       "      <td>36.056</td>\n",
       "      <td>0</td>\n",
       "      <td>0</td>\n",
       "      <td>0</td>\n",
       "      <td>0</td>\n",
       "      <td>0</td>\n",
       "      <td>0</td>\n",
       "    </tr>\n",
       "    <tr>\n",
       "      <td>154</td>\n",
       "      <td>0</td>\n",
       "      <td>21700</td>\n",
       "      <td>79240.0</td>\n",
       "      <td>96784.0</td>\n",
       "      <td>DebtCon</td>\n",
       "      <td>Mgr</td>\n",
       "      <td>5.0</td>\n",
       "      <td>0.0</td>\n",
       "      <td>0.0</td>\n",
       "      <td>64.51</td>\n",
       "      <td>6.0</td>\n",
       "      <td>24.0</td>\n",
       "      <td>38.079</td>\n",
       "      <td>0</td>\n",
       "      <td>0</td>\n",
       "      <td>0</td>\n",
       "      <td>0</td>\n",
       "      <td>0</td>\n",
       "      <td>0</td>\n",
       "    </tr>\n",
       "    <tr>\n",
       "      <td>155</td>\n",
       "      <td>0</td>\n",
       "      <td>34100</td>\n",
       "      <td>241931.0</td>\n",
       "      <td>36486.0</td>\n",
       "      <td>DebtCon</td>\n",
       "      <td>Mgr</td>\n",
       "      <td>1.0</td>\n",
       "      <td>0.0</td>\n",
       "      <td>2.0</td>\n",
       "      <td>196.01</td>\n",
       "      <td>3.0</td>\n",
       "      <td>50.0</td>\n",
       "      <td>42.459</td>\n",
       "      <td>0</td>\n",
       "      <td>0</td>\n",
       "      <td>0</td>\n",
       "      <td>0</td>\n",
       "      <td>0</td>\n",
       "      <td>0</td>\n",
       "    </tr>\n",
       "    <tr>\n",
       "      <td>156</td>\n",
       "      <td>0</td>\n",
       "      <td>8400</td>\n",
       "      <td>62989.0</td>\n",
       "      <td>76718.0</td>\n",
       "      <td>HomeImp</td>\n",
       "      <td>Mgr</td>\n",
       "      <td>3.0</td>\n",
       "      <td>0.0</td>\n",
       "      <td>2.0</td>\n",
       "      <td>131.47</td>\n",
       "      <td>0.0</td>\n",
       "      <td>22.0</td>\n",
       "      <td>29.200</td>\n",
       "      <td>1</td>\n",
       "      <td>0</td>\n",
       "      <td>0</td>\n",
       "      <td>0</td>\n",
       "      <td>0</td>\n",
       "      <td>0</td>\n",
       "    </tr>\n",
       "    <tr>\n",
       "      <td>157</td>\n",
       "      <td>0</td>\n",
       "      <td>17400</td>\n",
       "      <td>25859.0</td>\n",
       "      <td>43684.0</td>\n",
       "      <td>DebtCon</td>\n",
       "      <td>Mgr</td>\n",
       "      <td>16.0</td>\n",
       "      <td>1.0</td>\n",
       "      <td>0.0</td>\n",
       "      <td>95.36</td>\n",
       "      <td>1.0</td>\n",
       "      <td>17.0</td>\n",
       "      <td>27.108</td>\n",
       "      <td>0</td>\n",
       "      <td>0</td>\n",
       "      <td>0</td>\n",
       "      <td>0</td>\n",
       "      <td>0</td>\n",
       "      <td>0</td>\n",
       "    </tr>\n",
       "  </tbody>\n",
       "</table>\n",
       "</div>"
      ],
      "text/plain": [
       "     bad   loan   mortdue     value   reason  job   yoj  derog  delinq  \\\n",
       "153    0  18200   94727.0  136877.0  DebtCon  Mgr  15.0    0.0     0.0   \n",
       "154    0  21700   79240.0   96784.0  DebtCon  Mgr   5.0    0.0     0.0   \n",
       "155    0  34100  241931.0   36486.0  DebtCon  Mgr   1.0    0.0     2.0   \n",
       "156    0   8400   62989.0   76718.0  HomeImp  Mgr   3.0    0.0     2.0   \n",
       "157    0  17400   25859.0   43684.0  DebtCon  Mgr  16.0    1.0     0.0   \n",
       "\n",
       "      clage  ninq  clno  debtinc  HomeImp  Office  Other  ProfEx  Sales  Self  \n",
       "153  168.96   2.0  26.0   36.056        0       0      0       0      0     0  \n",
       "154   64.51   6.0  24.0   38.079        0       0      0       0      0     0  \n",
       "155  196.01   3.0  50.0   42.459        0       0      0       0      0     0  \n",
       "156  131.47   0.0  22.0   29.200        1       0      0       0      0     0  \n",
       "157   95.36   1.0  17.0   27.108        0       0      0       0      0     0  "
      ]
     },
     "execution_count": 18,
     "metadata": {},
     "output_type": "execute_result"
    }
   ],
   "source": [
    "# DUMMIES\n",
    "\n",
    "HomeImp = pd.get_dummies(data['reason'], drop_first =True)\n",
    "jobs = pd.get_dummies(data['job'], drop_first =True)\n",
    "data=pd.concat([data,HomeImp,jobs],axis=1)\n",
    "data.head()"
   ]
  },
  {
   "cell_type": "markdown",
   "metadata": {},
   "source": [
    "<ul><li>Kategorik bağımsız değişkenler dummy lere çevrildi</li></ul>"
   ]
  },
  {
   "cell_type": "code",
   "execution_count": 19,
   "metadata": {},
   "outputs": [
    {
     "data": {
      "text/html": [
       "<div>\n",
       "<style scoped>\n",
       "    .dataframe tbody tr th:only-of-type {\n",
       "        vertical-align: middle;\n",
       "    }\n",
       "\n",
       "    .dataframe tbody tr th {\n",
       "        vertical-align: top;\n",
       "    }\n",
       "\n",
       "    .dataframe thead th {\n",
       "        text-align: right;\n",
       "    }\n",
       "</style>\n",
       "<table border=\"1\" class=\"dataframe\">\n",
       "  <thead>\n",
       "    <tr style=\"text-align: right;\">\n",
       "      <th></th>\n",
       "      <th>bad</th>\n",
       "      <th>loan</th>\n",
       "      <th>mortdue</th>\n",
       "      <th>value</th>\n",
       "      <th>yoj</th>\n",
       "      <th>derog</th>\n",
       "      <th>delinq</th>\n",
       "      <th>clage</th>\n",
       "      <th>ninq</th>\n",
       "      <th>clno</th>\n",
       "      <th>debtinc</th>\n",
       "      <th>HomeImp</th>\n",
       "      <th>Office</th>\n",
       "      <th>Other</th>\n",
       "      <th>ProfEx</th>\n",
       "      <th>Sales</th>\n",
       "      <th>Self</th>\n",
       "    </tr>\n",
       "  </thead>\n",
       "  <tbody>\n",
       "    <tr>\n",
       "      <td>153</td>\n",
       "      <td>0</td>\n",
       "      <td>18200</td>\n",
       "      <td>94727.0</td>\n",
       "      <td>136877.0</td>\n",
       "      <td>15.0</td>\n",
       "      <td>0.0</td>\n",
       "      <td>0.0</td>\n",
       "      <td>168.96</td>\n",
       "      <td>2.0</td>\n",
       "      <td>26.0</td>\n",
       "      <td>36.056</td>\n",
       "      <td>0</td>\n",
       "      <td>0</td>\n",
       "      <td>0</td>\n",
       "      <td>0</td>\n",
       "      <td>0</td>\n",
       "      <td>0</td>\n",
       "    </tr>\n",
       "    <tr>\n",
       "      <td>154</td>\n",
       "      <td>0</td>\n",
       "      <td>21700</td>\n",
       "      <td>79240.0</td>\n",
       "      <td>96784.0</td>\n",
       "      <td>5.0</td>\n",
       "      <td>0.0</td>\n",
       "      <td>0.0</td>\n",
       "      <td>64.51</td>\n",
       "      <td>6.0</td>\n",
       "      <td>24.0</td>\n",
       "      <td>38.079</td>\n",
       "      <td>0</td>\n",
       "      <td>0</td>\n",
       "      <td>0</td>\n",
       "      <td>0</td>\n",
       "      <td>0</td>\n",
       "      <td>0</td>\n",
       "    </tr>\n",
       "    <tr>\n",
       "      <td>155</td>\n",
       "      <td>0</td>\n",
       "      <td>34100</td>\n",
       "      <td>241931.0</td>\n",
       "      <td>36486.0</td>\n",
       "      <td>1.0</td>\n",
       "      <td>0.0</td>\n",
       "      <td>2.0</td>\n",
       "      <td>196.01</td>\n",
       "      <td>3.0</td>\n",
       "      <td>50.0</td>\n",
       "      <td>42.459</td>\n",
       "      <td>0</td>\n",
       "      <td>0</td>\n",
       "      <td>0</td>\n",
       "      <td>0</td>\n",
       "      <td>0</td>\n",
       "      <td>0</td>\n",
       "    </tr>\n",
       "    <tr>\n",
       "      <td>156</td>\n",
       "      <td>0</td>\n",
       "      <td>8400</td>\n",
       "      <td>62989.0</td>\n",
       "      <td>76718.0</td>\n",
       "      <td>3.0</td>\n",
       "      <td>0.0</td>\n",
       "      <td>2.0</td>\n",
       "      <td>131.47</td>\n",
       "      <td>0.0</td>\n",
       "      <td>22.0</td>\n",
       "      <td>29.200</td>\n",
       "      <td>1</td>\n",
       "      <td>0</td>\n",
       "      <td>0</td>\n",
       "      <td>0</td>\n",
       "      <td>0</td>\n",
       "      <td>0</td>\n",
       "    </tr>\n",
       "    <tr>\n",
       "      <td>157</td>\n",
       "      <td>0</td>\n",
       "      <td>17400</td>\n",
       "      <td>25859.0</td>\n",
       "      <td>43684.0</td>\n",
       "      <td>16.0</td>\n",
       "      <td>1.0</td>\n",
       "      <td>0.0</td>\n",
       "      <td>95.36</td>\n",
       "      <td>1.0</td>\n",
       "      <td>17.0</td>\n",
       "      <td>27.108</td>\n",
       "      <td>0</td>\n",
       "      <td>0</td>\n",
       "      <td>0</td>\n",
       "      <td>0</td>\n",
       "      <td>0</td>\n",
       "      <td>0</td>\n",
       "    </tr>\n",
       "  </tbody>\n",
       "</table>\n",
       "</div>"
      ],
      "text/plain": [
       "     bad   loan   mortdue     value   yoj  derog  delinq   clage  ninq  clno  \\\n",
       "153    0  18200   94727.0  136877.0  15.0    0.0     0.0  168.96   2.0  26.0   \n",
       "154    0  21700   79240.0   96784.0   5.0    0.0     0.0   64.51   6.0  24.0   \n",
       "155    0  34100  241931.0   36486.0   1.0    0.0     2.0  196.01   3.0  50.0   \n",
       "156    0   8400   62989.0   76718.0   3.0    0.0     2.0  131.47   0.0  22.0   \n",
       "157    0  17400   25859.0   43684.0  16.0    1.0     0.0   95.36   1.0  17.0   \n",
       "\n",
       "     debtinc  HomeImp  Office  Other  ProfEx  Sales  Self  \n",
       "153   36.056        0       0      0       0      0     0  \n",
       "154   38.079        0       0      0       0      0     0  \n",
       "155   42.459        0       0      0       0      0     0  \n",
       "156   29.200        1       0      0       0      0     0  \n",
       "157   27.108        0       0      0       0      0     0  "
      ]
     },
     "execution_count": 19,
     "metadata": {},
     "output_type": "execute_result"
    }
   ],
   "source": [
    "data.drop(['reason','job'],axis =1,inplace=True)\n",
    "data.head()"
   ]
  },
  {
   "cell_type": "code",
   "execution_count": 20,
   "metadata": {},
   "outputs": [
    {
     "data": {
      "image/png": "[encoded data removed]",
      "text/plain": [
       "<Figure size 432x288 with 1 Axes>"
      ]
     },
     "metadata": {
      "needs_background": "light"
     },
     "output_type": "display_data"
    }
   ],
   "source": [
    "sns.countplot(x = 'bad', data = data)\n",
    "plt.show()"
   ]
  },
  {
   "cell_type": "markdown",
   "metadata": {},
   "source": [
    "<ul><li>Bağımlı değişkenin oranı dengesiz görünüyor</li></ul>"
   ]
  },
  {
   "cell_type": "code",
   "execution_count": 21,
   "metadata": {},
   "outputs": [],
   "source": [
    "X = data.loc[:, data.columns != 'bad']\n",
    "y = data.loc[:, data.columns == 'bad']\n",
    "X_train,X_test,y_train,y_test=train_test_split(X,y,test_size=0.3,random_state=42)\n"
   ]
  },
  {
   "cell_type": "code",
   "execution_count": 22,
   "metadata": {},
   "outputs": [
    {
     "name": "stdout",
     "output_type": "stream",
     "text": [
      "\u001b[31mloan   :   Normal dağılımdan gelmemektedir\u001b[0m\n",
      "\u001b[31mmortdue   :   Normal dağılımdan gelmemektedir\u001b[0m\n",
      "\u001b[31mvalue   :   Normal dağılımdan gelmemektedir\u001b[0m\n",
      "\u001b[31myoj   :   Normal dağılımdan gelmemektedir\u001b[0m\n",
      "\u001b[31mderog   :   Normal dağılımdan gelmemektedir\u001b[0m\n",
      "\u001b[31mdelinq   :   Normal dağılımdan gelmemektedir\u001b[0m\n",
      "\u001b[31mclage   :   Normal dağılımdan gelmemektedir\u001b[0m\n",
      "\u001b[31mninq   :   Normal dağılımdan gelmemektedir\u001b[0m\n",
      "\u001b[31mclno   :   Normal dağılımdan gelmemektedir\u001b[0m\n",
      "\u001b[31mdebtinc   :   Normal dağılımdan gelmemektedir\u001b[0m\n",
      "\u001b[31mHomeImp   :   Normal dağılımdan gelmemektedir\u001b[0m\n",
      "\u001b[31mOffice   :   Normal dağılımdan gelmemektedir\u001b[0m\n",
      "\u001b[31mOther   :   Normal dağılımdan gelmemektedir\u001b[0m\n",
      "\u001b[31mProfEx   :   Normal dağılımdan gelmemektedir\u001b[0m\n",
      "\u001b[31mSales   :   Normal dağılımdan gelmemektedir\u001b[0m\n",
      "\u001b[31mSelf   :   Normal dağılımdan gelmemektedir\u001b[0m\n"
     ]
    }
   ],
   "source": [
    "# Shapiro\n",
    "\n",
    "for each in X.columns:\n",
    "    stat , p = shapiro(X[each])\n",
    "    if p > 0.5:\n",
    "        print(colored(each +\"  :  Normal dağılımdan(Gaussian) gelmektedir (Fail to Reject Ho)\",'green'))\n",
    "    else:\n",
    "        print(colored(each+\"   :   Normal dağılımdan gelmemektedir\",'red'))"
   ]
  },
  {
   "cell_type": "code",
   "execution_count": 23,
   "metadata": {},
   "outputs": [
    {
     "name": "stdout",
     "output_type": "stream",
     "text": [
      "\n"
     ]
    },
    {
     "data": {
      "image/png": "[encoded data removed]",
      "text/plain": [
       "<Figure size 1440x1440 with 2 Axes>"
      ]
     },
     "metadata": {
      "needs_background": "light"
     },
     "output_type": "display_data"
    }
   ],
   "source": [
    "vi = Classes.Visualizer()\n",
    "vi.corrMatrix(X)"
   ]
  },
  {
   "cell_type": "code",
   "execution_count": 24,
   "metadata": {},
   "outputs": [
    {
     "data": {
      "image/png": "[encoded data removed]",
      "text/plain": [
       "<Figure size 360x360 with 1 Axes>"
      ]
     },
     "metadata": {
      "needs_background": "light"
     },
     "output_type": "display_data"
    },
    {
     "data": {
      "image/png": "[encoded data removed]",
      "text/plain": [
       "<Figure size 360x360 with 1 Axes>"
      ]
     },
     "metadata": {
      "needs_background": "light"
     },
     "output_type": "display_data"
    },
    {
     "data": {
      "image/png": "[encoded data removed]",
      "text/plain": [
       "<Figure size 360x360 with 1 Axes>"
      ]
     },
     "metadata": {
      "needs_background": "light"
     },
     "output_type": "display_data"
    },
    {
     "data": {
      "image/png": "[encoded data removed]",
      "text/plain": [
       "<Figure size 360x360 with 1 Axes>"
      ]
     },
     "metadata": {
      "needs_background": "light"
     },
     "output_type": "display_data"
    },
    {
     "data": {
      "image/png": "[encoded data removed]",
      "text/plain": [
       "<Figure size 360x360 with 1 Axes>"
      ]
     },
     "metadata": {
      "needs_background": "light"
     },
     "output_type": "display_data"
    },
    {
     "data": {
      "image/png": "[encoded data removed]",
      "text/plain": [
       "<Figure size 360x360 with 1 Axes>"
      ]
     },
     "metadata": {
      "needs_background": "light"
     },
     "output_type": "display_data"
    },
    {
     "data": {
      "image/png": "[encoded data removed]",
      "text/plain": [
       "<Figure size 360x360 with 1 Axes>"
      ]
     },
     "metadata": {
      "needs_background": "light"
     },
     "output_type": "display_data"
    },
    {
     "data": {
      "image/png": "[encoded data removed]",
      "text/plain": [
       "<Figure size 360x360 with 1 Axes>"
      ]
     },
     "metadata": {
      "needs_background": "light"
     },
     "output_type": "display_data"
    },
    {
     "data": {
      "image/png": "[encoded data removed]",
      "text/plain": [
       "<Figure size 360x360 with 1 Axes>"
      ]
     },
     "metadata": {
      "needs_background": "light"
     },
     "output_type": "display_data"
    },
    {
     "data": {
      "image/png": "[encoded data removed]",
      "text/plain": [
       "<Figure size 360x360 with 1 Axes>"
      ]
     },
     "metadata": {
      "needs_background": "light"
     },
     "output_type": "display_data"
    },
    {
     "data": {
      "image/png": "[encoded data removed]",
      "text/plain": [
       "<Figure size 360x360 with 1 Axes>"
      ]
     },
     "metadata": {
      "needs_background": "light"
     },
     "output_type": "display_data"
    },
    {
     "data": {
      "image/png": "[encoded data removed]",
      "text/plain": [
       "<Figure size 360x360 with 1 Axes>"
      ]
     },
     "metadata": {
      "needs_background": "light"
     },
     "output_type": "display_data"
    },
    {
     "data": {
      "image/png": "[encoded data removed]",
      "text/plain": [
       "<Figure size 360x360 with 1 Axes>"
      ]
     },
     "metadata": {
      "needs_background": "light"
     },
     "output_type": "display_data"
    },
    {
     "data": {
      "image/png": "[encoded data removed]",
      "text/plain": [
       "<Figure size 360x360 with 1 Axes>"
      ]
     },
     "metadata": {
      "needs_background": "light"
     },
     "output_type": "display_data"
    },
    {
     "data": {
      "image/png": "[encoded data removed]",
      "text/plain": [
       "<Figure size 360x360 with 1 Axes>"
      ]
     },
     "metadata": {
      "needs_background": "light"
     },
     "output_type": "display_data"
    },
    {
     "data": {
      "image/png": "[encoded data removed]",
      "text/plain": [
       "<Figure size 360x360 with 1 Axes>"
      ]
     },
     "metadata": {
      "needs_background": "light"
     },
     "output_type": "display_data"
    }
   ],
   "source": [
    "for i in X.columns:\n",
    "    plt.figure(figsize=(5,5))\n",
    "    X.boxplot(column = i)\n",
    "    "
   ]
  },
  {
   "cell_type": "code",
   "execution_count": 25,
   "metadata": {},
   "outputs": [
    {
     "data": {
      "text/plain": [
       "<matplotlib.axes._subplots.AxesSubplot at 0x16ea73d0>"
      ]
     },
     "execution_count": 25,
     "metadata": {},
     "output_type": "execute_result"
    },
    {
     "data": {
      "image/png": "[encoded data removed]",
      "text/plain": [
       "<Figure size 1440x1440 with 1 Axes>"
      ]
     },
     "metadata": {
      "needs_background": "light"
     },
     "output_type": "display_data"
    }
   ],
   "source": [
    "plt.figure(figsize=(20,20))\n",
    "X.boxplot()"
   ]
  },
  {
   "cell_type": "markdown",
   "metadata": {},
   "source": [
    "# Logistic Regression"
   ]
  },
  {
   "cell_type": "code",
   "execution_count": 26,
   "metadata": {},
   "outputs": [
    {
     "name": "stdout",
     "output_type": "stream",
     "text": [
      "Grid Search Helper...\n"
     ]
    }
   ],
   "source": [
    "g = Classes.GridSearchHelper()"
   ]
  },
  {
   "cell_type": "code",
   "execution_count": 27,
   "metadata": {
    "scrolled": false
   },
   "outputs": [
    {
     "name": "stdout",
     "output_type": "stream",
     "text": [
      "\u001b[34m------------------     STATS  MODELS  --------------------\n",
      "\u001b[0m\n",
      "Optimization terminated successfully.\n",
      "         Current function value: 0.254978\n",
      "         Iterations 7\n",
      "                           Logit Regression Results                           \n",
      "==============================================================================\n",
      "Dep. Variable:                    bad   No. Observations:                 1412\n",
      "Model:                          Logit   Df Residuals:                     1396\n",
      "Method:                           MLE   Df Model:                           15\n",
      "Date:                Sun, 23 Aug 2020   Pseudo R-squ.:                  0.1522\n",
      "Time:                        08:26:31   Log-Likelihood:                -360.03\n",
      "converged:                       True   LL-Null:                       -424.68\n",
      "Covariance Type:            nonrobust   LLR p-value:                 2.915e-20\n",
      "==============================================================================\n",
      "                 coef    std err          z      P>|z|      [0.025      0.975]\n",
      "------------------------------------------------------------------------------\n",
      "loan       -3.704e-05   1.35e-05     -2.748      0.006   -6.35e-05   -1.06e-05\n",
      "mortdue    -6.861e-07   5.01e-06     -0.137      0.891   -1.05e-05    9.14e-06\n",
      "value       1.586e-06   4.19e-06      0.379      0.705   -6.63e-06     9.8e-06\n",
      "yoj           -0.0332      0.016     -2.088      0.037      -0.064      -0.002\n",
      "derog          0.5391      0.155      3.473      0.001       0.235       0.843\n",
      "delinq         0.8557      0.109      7.824      0.000       0.641       1.070\n",
      "clage         -0.0065      0.002     -4.206      0.000      -0.009      -0.003\n",
      "ninq           0.0424      0.054      0.790      0.430      -0.063       0.148\n",
      "clno          -0.0453      0.013     -3.552      0.000      -0.070      -0.020\n",
      "debtinc        0.0297      0.009      3.338      0.001       0.012       0.047\n",
      "HomeImp       -0.4523      0.242     -1.870      0.062      -0.926       0.022\n",
      "Office        -1.4365      0.354     -4.055      0.000      -2.131      -0.742\n",
      "Other         -1.1678      0.242     -4.832      0.000      -1.641      -0.694\n",
      "ProfEx        -0.8629      0.304     -2.834      0.005      -1.460      -0.266\n",
      "Sales         -0.1145      0.741     -0.155      0.877      -1.566       1.337\n",
      "Self           0.4185      0.554      0.755      0.450      -0.668       1.505\n",
      "==============================================================================\n",
      "\n",
      "\u001b[34m------------------     SCIKIT LEARN MODEL  --------------------\n",
      "\u001b[0m\n",
      "\u001b[31mIntercept :  \u001b[0m [-0.00523233]\n",
      "\n",
      "\u001b[31mCoefficient  : \u001b[0m [[-3.71834832e-05 -2.55374267e-06 -6.51768885e-07 -3.28520052e-02\n",
      "   9.41707149e-03  2.24940282e-02 -6.60975207e-03  4.29848322e-03\n",
      "  -2.81876842e-02  1.98888137e-02 -2.34356565e-03 -1.91531577e-03\n",
      "  -3.70032847e-03 -1.05307093e-03  2.05828355e-04  1.01161006e-03]]\n",
      "\n",
      "\u001b[31mTRAIN\u001b[0m\n",
      "\n"
     ]
    },
    {
     "data": {
      "image/png": "[encoded data removed]",
      "text/plain": [
       "<Figure size 360x360 with 1 Axes>"
      ]
     },
     "metadata": {
      "needs_background": "light"
     },
     "output_type": "display_data"
    },
    {
     "name": "stdout",
     "output_type": "stream",
     "text": [
      "              precision    recall  f1-score   support\n",
      "\n",
      "           0       0.91      1.00      0.95      1286\n",
      "           1       0.00      0.00      0.00       126\n",
      "\n",
      "    accuracy                           0.91      1412\n",
      "   macro avg       0.46      0.50      0.48      1412\n",
      "weighted avg       0.83      0.91      0.87      1412\n",
      "\n",
      "\u001b[34mTrain accuracy score : \u001b[0m 0.910056657223796\n",
      "\u001b[31mTEST\u001b[0m\n",
      "\n"
     ]
    },
    {
     "data": {
      "image/png": "[encoded data removed]",
      "text/plain": [
       "<Figure size 360x360 with 1 Axes>"
      ]
     },
     "metadata": {
      "needs_background": "light"
     },
     "output_type": "display_data"
    },
    {
     "name": "stdout",
     "output_type": "stream",
     "text": [
      "              precision    recall  f1-score   support\n",
      "\n",
      "           0       0.91      1.00      0.95       554\n",
      "           1       0.00      0.00      0.00        52\n",
      "\n",
      "    accuracy                           0.91       606\n",
      "   macro avg       0.46      0.50      0.48       606\n",
      "weighted avg       0.84      0.91      0.87       606\n",
      "\n",
      "\u001b[34mTest accuracy score : \u001b[0m 0.9125412541254125\n"
     ]
    }
   ],
   "source": [
    "log_reg , y_pred = g.LogisticReg(X_train,X_test,y_train,y_test)"
   ]
  },
  {
   "cell_type": "markdown",
   "metadata": {},
   "source": [
    "### Model Tuning"
   ]
  },
  {
   "cell_type": "code",
   "execution_count": 28,
   "metadata": {},
   "outputs": [],
   "source": [
    "log_params = {'penalty': ['l1', 'l2'],'C':[0.001,.009,0.01,.09,1,5,10,25]}"
   ]
  },
  {
   "cell_type": "code",
   "execution_count": 29,
   "metadata": {},
   "outputs": [
    {
     "name": "stdout",
     "output_type": "stream",
     "text": [
      "En iyi parametresi :{'C': 10, 'penalty': 'l1'}\n",
      "Tuned Model Accuracy Score :  0.929042904290429\n"
     ]
    }
   ],
   "source": [
    "tuned_log_reg = g.GridSearchCVM('Logistic',log_reg,log_params,X_train,X_test,y_train, y_test)"
   ]
  },
  {
   "cell_type": "markdown",
   "metadata": {},
   "source": [
    "# Decision Tree"
   ]
  },
  {
   "cell_type": "code",
   "execution_count": 30,
   "metadata": {},
   "outputs": [
    {
     "name": "stdout",
     "output_type": "stream",
     "text": [
      "\u001b[31mTRAIN\u001b[0m\n",
      "\n"
     ]
    },
    {
     "data": {
      "image/png": "[encoded data removed]",
      "text/plain": [
       "<Figure size 360x360 with 1 Axes>"
      ]
     },
     "metadata": {
      "needs_background": "light"
     },
     "output_type": "display_data"
    },
    {
     "name": "stdout",
     "output_type": "stream",
     "text": [
      "              precision    recall  f1-score   support\n",
      "\n",
      "           0       1.00      1.00      1.00      1286\n",
      "           1       1.00      1.00      1.00       126\n",
      "\n",
      "    accuracy                           1.00      1412\n",
      "   macro avg       1.00      1.00      1.00      1412\n",
      "weighted avg       1.00      1.00      1.00      1412\n",
      "\n",
      "\u001b[34mTrain accuracy score : \u001b[0m 1.0\n",
      "\u001b[31mTEST\u001b[0m\n"
     ]
    },
    {
     "data": {
      "image/png": "[encoded data removed]",
      "text/plain": [
       "<Figure size 360x360 with 1 Axes>"
      ]
     },
     "metadata": {
      "needs_background": "light"
     },
     "output_type": "display_data"
    },
    {
     "name": "stdout",
     "output_type": "stream",
     "text": [
      "              precision    recall  f1-score   support\n",
      "\n",
      "           0       0.95      0.97      0.96       554\n",
      "           1       0.58      0.48      0.53        52\n",
      "\n",
      "    accuracy                           0.93       606\n",
      "   macro avg       0.77      0.72      0.74       606\n",
      "weighted avg       0.92      0.93      0.92       606\n",
      "\n",
      "\u001b[34mTest accuracy score : \u001b[0m 0.9257425742574258\n"
     ]
    }
   ],
   "source": [
    "decisionTree = g.DecisionTreeCls(X_train,X_test,y_train,y_test)"
   ]
  },
  {
   "cell_type": "code",
   "execution_count": 31,
   "metadata": {},
   "outputs": [
    {
     "data": {
      "text/plain": [
       "DecisionTreeClassifier(class_weight=None, criterion='gini', max_depth=None,\n",
       "                       max_features=None, max_leaf_nodes=None,\n",
       "                       min_impurity_decrease=0.0, min_impurity_split=None,\n",
       "                       min_samples_leaf=1, min_samples_split=2,\n",
       "                       min_weight_fraction_leaf=0.0, presort=False,\n",
       "                       random_state=None, splitter='best')"
      ]
     },
     "execution_count": 31,
     "metadata": {},
     "output_type": "execute_result"
    }
   ],
   "source": [
    "decisionTree"
   ]
  },
  {
   "cell_type": "markdown",
   "metadata": {},
   "source": [
    "### Model Tuning"
   ]
  },
  {
   "cell_type": "code",
   "execution_count": 32,
   "metadata": {},
   "outputs": [
    {
     "name": "stdout",
     "output_type": "stream",
     "text": [
      "En iyi parametresi :{'criterion': 'gini', 'max_depth': 5, 'min_samples_split': 3}\n",
      "Tuned Model Accuracy Score :  0.9422442244224423\n"
     ]
    }
   ],
   "source": [
    "\n",
    "\n",
    "cart_grid = {\"max_depth\": range(4,50),\n",
    "            \"min_samples_split\": list(range(2,50)),\n",
    "             \"criterion\" : [\"gini\", \"entropy\"]}\n",
    "\n",
    "tuned_decisionTree = g.GridSearchCVM('Decision Tree',decisionTree,cart_grid,X_train,X_test,y_train, y_test)"
   ]
  },
  {
   "cell_type": "markdown",
   "metadata": {},
   "source": [
    "# Random Forest"
   ]
  },
  {
   "cell_type": "code",
   "execution_count": 33,
   "metadata": {},
   "outputs": [
    {
     "name": "stdout",
     "output_type": "stream",
     "text": [
      "\u001b[31mTRAIN\u001b[0m\n",
      "\n"
     ]
    },
    {
     "data": {
      "image/png": "[encoded data removed]",
      "text/plain": [
       "<Figure size 360x360 with 1 Axes>"
      ]
     },
     "metadata": {
      "needs_background": "light"
     },
     "output_type": "display_data"
    },
    {
     "name": "stdout",
     "output_type": "stream",
     "text": [
      "              precision    recall  f1-score   support\n",
      "\n",
      "           0       0.99      1.00      1.00      1286\n",
      "           1       1.00      0.94      0.97       126\n",
      "\n",
      "    accuracy                           0.99      1412\n",
      "   macro avg       1.00      0.97      0.98      1412\n",
      "weighted avg       0.99      0.99      0.99      1412\n",
      "\n",
      "\u001b[34mTrain accuracy score : \u001b[0m 0.9943342776203966\n",
      "\u001b[31mTEST\u001b[0m\n"
     ]
    },
    {
     "data": {
      "image/png": "[encoded data removed]",
      "text/plain": [
       "<Figure size 360x360 with 1 Axes>"
      ]
     },
     "metadata": {
      "needs_background": "light"
     },
     "output_type": "display_data"
    },
    {
     "name": "stdout",
     "output_type": "stream",
     "text": [
      "              precision    recall  f1-score   support\n",
      "\n",
      "           0       0.96      1.00      0.98       554\n",
      "           1       0.93      0.50      0.65        52\n",
      "\n",
      "    accuracy                           0.95       606\n",
      "   macro avg       0.94      0.75      0.81       606\n",
      "weighted avg       0.95      0.95      0.95       606\n",
      "\n",
      "\u001b[34mTest accuracy score : \u001b[0m 0.9537953795379538\n"
     ]
    }
   ],
   "source": [
    "randomForest = g.RandomForestCls(X_train,X_test,y_train,y_test)"
   ]
  },
  {
   "cell_type": "code",
   "execution_count": 34,
   "metadata": {},
   "outputs": [
    {
     "data": {
      "text/plain": [
       "RandomForestClassifier(bootstrap=True, class_weight=None, criterion='gini',\n",
       "                       max_depth=None, max_features='auto', max_leaf_nodes=None,\n",
       "                       min_impurity_decrease=0.0, min_impurity_split=None,\n",
       "                       min_samples_leaf=1, min_samples_split=2,\n",
       "                       min_weight_fraction_leaf=0.0, n_estimators=10,\n",
       "                       n_jobs=None, oob_score=False, random_state=None,\n",
       "                       verbose=0, warm_start=False)"
      ]
     },
     "execution_count": 34,
     "metadata": {},
     "output_type": "execute_result"
    }
   ],
   "source": [
    "randomForest"
   ]
  },
  {
   "cell_type": "markdown",
   "metadata": {},
   "source": [
    "### Model Tuning"
   ]
  },
  {
   "cell_type": "code",
   "execution_count": 35,
   "metadata": {},
   "outputs": [],
   "source": [
    "# Number of trees in random forest\n",
    "n_estimators = [int(x) for x in np.linspace(start = 200, stop = 2000, num = 10)]\n",
    "# Number of features to consider at every split\n",
    "max_features = ['auto', 'sqrt']\n",
    "# Maximum number of levels in tree\n",
    "max_depth = [int(x) for x in np.linspace(20, 110, num = 11)]\n",
    "max_depth.append(None)\n",
    "# Minimum number of samples required to split a node\n",
    "min_samples_split = [2, 5, 10]\n",
    "# Minimum number of samples required at each leaf node\n",
    "min_samples_leaf = [1, 2, 4]\n",
    "# Method of selecting samples for training each tree\n",
    "bootstrap = [True, False]\n",
    "# Create the random grid\n",
    "random_grid = {'n_estimators': n_estimators,\n",
    "               'max_features': max_features,\n",
    "               'max_depth': max_depth,\n",
    "               'min_samples_split': min_samples_split,\n",
    "               'min_samples_leaf': min_samples_leaf,\n",
    "               'bootstrap': bootstrap}"
   ]
  },
  {
   "cell_type": "code",
   "execution_count": 36,
   "metadata": {},
   "outputs": [
    {
     "name": "stdout",
     "output_type": "stream",
     "text": [
      "Fitting 3 folds for each of 100 candidates, totalling 300 fits\n"
     ]
    },
    {
     "name": "stderr",
     "output_type": "stream",
     "text": [
      "[Parallel(n_jobs=-1)]: Using backend LokyBackend with 4 concurrent workers.\n",
      "[Parallel(n_jobs=-1)]: Done  33 tasks      | elapsed:  1.8min\n",
      "[Parallel(n_jobs=-1)]: Done 154 tasks      | elapsed:  7.5min\n",
      "[Parallel(n_jobs=-1)]: Done 300 out of 300 | elapsed: 14.0min finished\n"
     ]
    },
    {
     "name": "stdout",
     "output_type": "stream",
     "text": [
      "En iyi parametresi :{'n_estimators': 1000, 'min_samples_split': 2, 'min_samples_leaf': 1, 'max_features': 'auto', 'max_depth': 56, 'bootstrap': False}\n",
      "Tuned Model Accuracy Score :  0.9521452145214522\n"
     ]
    }
   ],
   "source": [
    "tuned_randomForest = g.RandomizedSearchCVM('Random Forest',randomForest,random_grid,X_train,X_test,y_train, y_test)"
   ]
  },
  {
   "cell_type": "markdown",
   "metadata": {},
   "source": [
    "# Neural Network"
   ]
  },
  {
   "cell_type": "code",
   "execution_count": 37,
   "metadata": {},
   "outputs": [
    {
     "name": "stdout",
     "output_type": "stream",
     "text": [
      "\u001b[31mTRAIN\u001b[0m\n",
      "\n"
     ]
    },
    {
     "data": {
      "image/png": "[encoded data removed]",
      "text/plain": [
       "<Figure size 360x360 with 1 Axes>"
      ]
     },
     "metadata": {
      "needs_background": "light"
     },
     "output_type": "display_data"
    },
    {
     "name": "stdout",
     "output_type": "stream",
     "text": [
      "              precision    recall  f1-score   support\n",
      "\n",
      "           0       0.91      1.00      0.95      1286\n",
      "           1       1.00      0.02      0.05       126\n",
      "\n",
      "    accuracy                           0.91      1412\n",
      "   macro avg       0.96      0.51      0.50      1412\n",
      "weighted avg       0.92      0.91      0.87      1412\n",
      "\n",
      "\u001b[34mTrain accuracy score : \u001b[0m 0.9128895184135978\n",
      "\u001b[31mTEST\u001b[0m\n"
     ]
    },
    {
     "data": {
      "image/png": "[encoded data removed]",
      "text/plain": [
       "<Figure size 360x360 with 1 Axes>"
      ]
     },
     "metadata": {
      "needs_background": "light"
     },
     "output_type": "display_data"
    },
    {
     "name": "stdout",
     "output_type": "stream",
     "text": [
      "              precision    recall  f1-score   support\n",
      "\n",
      "           0       0.92      1.00      0.96       554\n",
      "           1       1.00      0.02      0.04        52\n",
      "\n",
      "    accuracy                           0.92       606\n",
      "   macro avg       0.96      0.51      0.50       606\n",
      "weighted avg       0.92      0.92      0.88       606\n",
      "\n",
      "\u001b[34mTest accuracy score : \u001b[0m 0.9158415841584159\n"
     ]
    }
   ],
   "source": [
    "nn = g.NeuralNetworkCls(X_train,X_test,y_train,y_test)"
   ]
  },
  {
   "cell_type": "code",
   "execution_count": 38,
   "metadata": {},
   "outputs": [
    {
     "data": {
      "text/plain": [
       "MLPClassifier(activation='relu', alpha=0.0001, batch_size='auto', beta_1=0.9,\n",
       "              beta_2=0.999, early_stopping=False, epsilon=1e-08,\n",
       "              hidden_layer_sizes=(100,), learning_rate='constant',\n",
       "              learning_rate_init=0.001, max_iter=200, momentum=0.9,\n",
       "              n_iter_no_change=10, nesterovs_momentum=True, power_t=0.5,\n",
       "              random_state=None, shuffle=True, solver='adam', tol=0.0001,\n",
       "              validation_fraction=0.1, verbose=False, warm_start=False)"
      ]
     },
     "execution_count": 38,
     "metadata": {},
     "output_type": "execute_result"
    }
   ],
   "source": [
    "nn"
   ]
  },
  {
   "cell_type": "markdown",
   "metadata": {},
   "source": [
    "### Model Tuning"
   ]
  },
  {
   "cell_type": "code",
   "execution_count": 39,
   "metadata": {},
   "outputs": [],
   "source": [
    "param_grid = {\n",
    "    'hidden_layer_sizes': [(10,30,10),(20,)],\n",
    "    'activation': ['tanh', 'relu'],\n",
    "    'solver': ['sgd', 'adam'],\n",
    "    'alpha': [0.0001, 0.05],\n",
    "    'learning_rate': ['constant','adaptive'],\n",
    "}"
   ]
  },
  {
   "cell_type": "code",
   "execution_count": 40,
   "metadata": {},
   "outputs": [
    {
     "name": "stdout",
     "output_type": "stream",
     "text": [
      "En iyi parametresi :{'activation': 'tanh', 'alpha': 0.0001, 'hidden_layer_sizes': (10, 30, 10), 'learning_rate': 'constant', 'solver': 'sgd'}\n",
      "Tuned Model Accuracy Score :  0.9141914191419142\n"
     ]
    }
   ],
   "source": [
    "tuned_nn = g.GridSearchCVM('Neural Network',nn,param_grid,X_train,X_test,y_train, y_test)"
   ]
  },
  {
   "cell_type": "markdown",
   "metadata": {},
   "source": [
    "# Naive Bayes"
   ]
  },
  {
   "cell_type": "markdown",
   "metadata": {},
   "source": [
    "## GaussianNB"
   ]
  },
  {
   "cell_type": "code",
   "execution_count": 41,
   "metadata": {},
   "outputs": [
    {
     "name": "stdout",
     "output_type": "stream",
     "text": [
      "\u001b[31mTRAIN\u001b[0m\n",
      "\n"
     ]
    },
    {
     "data": {
      "image/png": "[encoded data removed]",
      "text/plain": [
       "<Figure size 360x360 with 1 Axes>"
      ]
     },
     "metadata": {
      "needs_background": "light"
     },
     "output_type": "display_data"
    },
    {
     "name": "stdout",
     "output_type": "stream",
     "text": [
      "              precision    recall  f1-score   support\n",
      "\n",
      "           0       0.93      0.97      0.95      1286\n",
      "           1       0.39      0.23      0.29       126\n",
      "\n",
      "    accuracy                           0.90      1412\n",
      "   macro avg       0.66      0.60      0.62      1412\n",
      "weighted avg       0.88      0.90      0.89      1412\n",
      "\n",
      "\u001b[34mTrain accuracy score : \u001b[0m 0.8994334277620396\n",
      "\u001b[31mTEST\u001b[0m\n"
     ]
    },
    {
     "data": {
      "image/png": "[encoded data removed]",
      "text/plain": [
       "<Figure size 360x360 with 1 Axes>"
      ]
     },
     "metadata": {
      "needs_background": "light"
     },
     "output_type": "display_data"
    },
    {
     "name": "stdout",
     "output_type": "stream",
     "text": [
      "              precision    recall  f1-score   support\n",
      "\n",
      "           0       0.93      0.97      0.95       554\n",
      "           1       0.34      0.19      0.25        52\n",
      "\n",
      "    accuracy                           0.90       606\n",
      "   macro avg       0.64      0.58      0.60       606\n",
      "weighted avg       0.88      0.90      0.89       606\n",
      "\n",
      "\u001b[34mTest accuracy score : \u001b[0m 0.8993399339933993\n"
     ]
    }
   ],
   "source": [
    "gaussian = g.GaussianNBCls(X_train,X_test,y_train,y_test)"
   ]
  },
  {
   "cell_type": "code",
   "execution_count": 42,
   "metadata": {},
   "outputs": [
    {
     "data": {
      "text/plain": [
       "GaussianNB(priors=None, var_smoothing=1e-09)"
      ]
     },
     "execution_count": 42,
     "metadata": {},
     "output_type": "execute_result"
    }
   ],
   "source": [
    "gaussian"
   ]
  },
  {
   "cell_type": "markdown",
   "metadata": {},
   "source": [
    "### Model Tuning"
   ]
  },
  {
   "cell_type": "code",
   "execution_count": 43,
   "metadata": {},
   "outputs": [],
   "source": [
    "params_NB = {'var_smoothing': np.logspace(0,-9, num=100),\n",
    "            \"priors\": [(0.1,0.9),(0.2,0.8),(0.3,0.7),(0.4,0.6)]}"
   ]
  },
  {
   "cell_type": "code",
   "execution_count": 44,
   "metadata": {},
   "outputs": [
    {
     "name": "stdout",
     "output_type": "stream",
     "text": [
      "En iyi parametresi :{'priors': (0.4, 0.6), 'var_smoothing': 1e-09}\n",
      "Tuned Model Accuracy Score :  0.8432343234323433\n"
     ]
    }
   ],
   "source": [
    "tuned_g = g.GridSearchCVM('GaussianNB',gaussian,params_NB,X_train,X_test,y_train, y_test)"
   ]
  },
  {
   "cell_type": "markdown",
   "metadata": {},
   "source": [
    "## BernoulliNB"
   ]
  },
  {
   "cell_type": "code",
   "execution_count": 45,
   "metadata": {},
   "outputs": [
    {
     "name": "stdout",
     "output_type": "stream",
     "text": [
      "\u001b[31mTRAIN\u001b[0m\n",
      "\n"
     ]
    },
    {
     "data": {
      "image/png": "[encoded data removed]",
      "text/plain": [
       "<Figure size 360x360 with 1 Axes>"
      ]
     },
     "metadata": {
      "needs_background": "light"
     },
     "output_type": "display_data"
    },
    {
     "name": "stdout",
     "output_type": "stream",
     "text": [
      "              precision    recall  f1-score   support\n",
      "\n",
      "           0       0.92      0.99      0.95      1286\n",
      "           1       0.36      0.08      0.13       126\n",
      "\n",
      "    accuracy                           0.91      1412\n",
      "   macro avg       0.64      0.53      0.54      1412\n",
      "weighted avg       0.87      0.91      0.88      1412\n",
      "\n",
      "\u001b[34mTrain accuracy score : \u001b[0m 0.9050991501416431\n",
      "\u001b[31mTEST\u001b[0m\n"
     ]
    },
    {
     "data": {
      "image/png": "[encoded data removed]",
      "text/plain": [
       "<Figure size 360x360 with 1 Axes>"
      ]
     },
     "metadata": {
      "needs_background": "light"
     },
     "output_type": "display_data"
    },
    {
     "name": "stdout",
     "output_type": "stream",
     "text": [
      "              precision    recall  f1-score   support\n",
      "\n",
      "           0       0.92      0.99      0.95       554\n",
      "           1       0.20      0.04      0.06        52\n",
      "\n",
      "    accuracy                           0.90       606\n",
      "   macro avg       0.56      0.51      0.51       606\n",
      "weighted avg       0.85      0.90      0.87       606\n",
      "\n",
      "\u001b[34mTest accuracy score : \u001b[0m 0.9042904290429042\n"
     ]
    }
   ],
   "source": [
    "bernoulli = g.BernoulliNBCls(X_train,X_test,y_train,y_test)"
   ]
  },
  {
   "cell_type": "code",
   "execution_count": 46,
   "metadata": {},
   "outputs": [
    {
     "data": {
      "text/plain": [
       "BernoulliNB(alpha=1.0, binarize=0.0, class_prior=None, fit_prior=True)"
      ]
     },
     "execution_count": 46,
     "metadata": {},
     "output_type": "execute_result"
    }
   ],
   "source": [
    "bernoulli"
   ]
  },
  {
   "cell_type": "markdown",
   "metadata": {},
   "source": [
    "### Model Tuning"
   ]
  },
  {
   "cell_type": "code",
   "execution_count": 47,
   "metadata": {},
   "outputs": [],
   "source": [
    "bn_params = {'alpha': [0.0001,0.01,0.002,0.007, 0.05]}"
   ]
  },
  {
   "cell_type": "code",
   "execution_count": 48,
   "metadata": {},
   "outputs": [
    {
     "name": "stdout",
     "output_type": "stream",
     "text": [
      "En iyi parametresi :{'alpha': 0.0001}\n",
      "Tuned Model Accuracy Score :  0.9026402640264026\n"
     ]
    }
   ],
   "source": [
    "tuned_b = g.GridSearchCVM('BernoulliNB',bernoulli,bn_params,X_train,X_test,y_train, y_test)"
   ]
  },
  {
   "cell_type": "markdown",
   "metadata": {},
   "source": [
    "# SVM"
   ]
  },
  {
   "cell_type": "code",
   "execution_count": 49,
   "metadata": {},
   "outputs": [
    {
     "name": "stdout",
     "output_type": "stream",
     "text": [
      "\u001b[31mTRAIN\u001b[0m\n",
      "\n"
     ]
    },
    {
     "data": {
      "image/png": "[encoded data removed]",
      "text/plain": [
       "<Figure size 360x360 with 1 Axes>"
      ]
     },
     "metadata": {
      "needs_background": "light"
     },
     "output_type": "display_data"
    },
    {
     "name": "stdout",
     "output_type": "stream",
     "text": [
      "              precision    recall  f1-score   support\n",
      "\n",
      "           0       1.00      1.00      1.00      1286\n",
      "           1       1.00      1.00      1.00       126\n",
      "\n",
      "    accuracy                           1.00      1412\n",
      "   macro avg       1.00      1.00      1.00      1412\n",
      "weighted avg       1.00      1.00      1.00      1412\n",
      "\n",
      "\u001b[34mTrain accuracy score : \u001b[0m 1.0\n",
      "\u001b[31mTEST\u001b[0m\n"
     ]
    },
    {
     "data": {
      "image/png": "[encoded data removed]",
      "text/plain": [
       "<Figure size 360x360 with 1 Axes>"
      ]
     },
     "metadata": {
      "needs_background": "light"
     },
     "output_type": "display_data"
    },
    {
     "name": "stdout",
     "output_type": "stream",
     "text": [
      "              precision    recall  f1-score   support\n",
      "\n",
      "           0       0.91      1.00      0.96       554\n",
      "           1       0.00      0.00      0.00        52\n",
      "\n",
      "    accuracy                           0.91       606\n",
      "   macro avg       0.46      0.50      0.48       606\n",
      "weighted avg       0.84      0.91      0.87       606\n",
      "\n",
      "\u001b[34mTest accuracy score : \u001b[0m 0.9141914191419142\n"
     ]
    }
   ],
   "source": [
    "svc = g.SVMCls(X_train,X_test,y_train,y_test)"
   ]
  },
  {
   "cell_type": "code",
   "execution_count": 50,
   "metadata": {},
   "outputs": [
    {
     "data": {
      "text/plain": [
       "SVC(C=1.0, cache_size=200, class_weight=None, coef0=0.0,\n",
       "    decision_function_shape='ovr', degree=3, gamma='auto_deprecated',\n",
       "    kernel='rbf', max_iter=-1, probability=False, random_state=None,\n",
       "    shrinking=True, tol=0.001, verbose=False)"
      ]
     },
     "execution_count": 50,
     "metadata": {},
     "output_type": "execute_result"
    }
   ],
   "source": [
    "svc"
   ]
  },
  {
   "cell_type": "markdown",
   "metadata": {},
   "source": [
    "### Model Tuning"
   ]
  },
  {
   "cell_type": "code",
   "execution_count": 51,
   "metadata": {},
   "outputs": [],
   "source": [
    "params_svc = {'C': [1, 10,15,20],  \n",
    "            #  'gamma': [1, 0.1, 0.01, 0.001, 0.0001],\n",
    "             # \"kernel\" : [\"linear\",\"rbf\",\"poly\"]\n",
    "             }"
   ]
  },
  {
   "cell_type": "code",
   "execution_count": 52,
   "metadata": {},
   "outputs": [
    {
     "name": "stdout",
     "output_type": "stream",
     "text": [
      "En iyi parametresi :{'C': 1}\n",
      "Tuned Model Accuracy Score :  0.9141914191419142\n"
     ]
    }
   ],
   "source": [
    "tuned_svm = g.GridSearchCVM('SVM',svc,params_svc,X_train,X_test,y_train, y_test) "
   ]
  },
  {
   "cell_type": "markdown",
   "metadata": {},
   "source": [
    "# KNN"
   ]
  },
  {
   "cell_type": "code",
   "execution_count": 53,
   "metadata": {},
   "outputs": [
    {
     "name": "stdout",
     "output_type": "stream",
     "text": [
      "\u001b[31mTRAIN\u001b[0m\n",
      "\n"
     ]
    },
    {
     "data": {
      "image/png": "[encoded data removed]",
      "text/plain": [
       "<Figure size 360x360 with 1 Axes>"
      ]
     },
     "metadata": {
      "needs_background": "light"
     },
     "output_type": "display_data"
    },
    {
     "name": "stdout",
     "output_type": "stream",
     "text": [
      "              precision    recall  f1-score   support\n",
      "\n",
      "           0       0.92      1.00      0.96      1286\n",
      "           1       0.80      0.16      0.26       126\n",
      "\n",
      "    accuracy                           0.92      1412\n",
      "   macro avg       0.86      0.58      0.61      1412\n",
      "weighted avg       0.91      0.92      0.90      1412\n",
      "\n",
      "\u001b[34mTrain accuracy score : \u001b[0m 0.9213881019830028\n",
      "\u001b[31mTEST\u001b[0m\n"
     ]
    },
    {
     "data": {
      "image/png": "[encoded data removed]",
      "text/plain": [
       "<Figure size 360x360 with 1 Axes>"
      ]
     },
     "metadata": {
      "needs_background": "light"
     },
     "output_type": "display_data"
    },
    {
     "name": "stdout",
     "output_type": "stream",
     "text": [
      "              precision    recall  f1-score   support\n",
      "\n",
      "           0       0.92      0.99      0.95       554\n",
      "           1       0.50      0.10      0.16        52\n",
      "\n",
      "    accuracy                           0.91       606\n",
      "   macro avg       0.71      0.54      0.56       606\n",
      "weighted avg       0.89      0.91      0.89       606\n",
      "\n",
      "\u001b[34mTest accuracy score : \u001b[0m 0.9141914191419142\n"
     ]
    }
   ],
   "source": [
    "knn = g.KNNCls(X_train,X_test,y_train,y_test)"
   ]
  },
  {
   "cell_type": "code",
   "execution_count": 54,
   "metadata": {},
   "outputs": [
    {
     "data": {
      "text/plain": [
       "KNeighborsClassifier(algorithm='auto', leaf_size=30, metric='minkowski',\n",
       "                     metric_params=None, n_jobs=None, n_neighbors=5, p=2,\n",
       "                     weights='uniform')"
      ]
     },
     "execution_count": 54,
     "metadata": {},
     "output_type": "execute_result"
    }
   ],
   "source": [
    "knn"
   ]
  },
  {
   "cell_type": "markdown",
   "metadata": {},
   "source": [
    "### Model Tuning"
   ]
  },
  {
   "cell_type": "code",
   "execution_count": 55,
   "metadata": {},
   "outputs": [],
   "source": [
    "params_knn = {\"n_neighbors\": np.arange(1,15),\n",
    "         \"metric\" :[\"minkowski\", \"euclidean\",\"manhattan\"]}"
   ]
  },
  {
   "cell_type": "code",
   "execution_count": 56,
   "metadata": {},
   "outputs": [
    {
     "name": "stdout",
     "output_type": "stream",
     "text": [
      "En iyi parametresi :{'metric': 'minkowski', 'n_neighbors': 14}\n",
      "Tuned Model Accuracy Score :  0.9174917491749175\n"
     ]
    }
   ],
   "source": [
    "tuned_knn = g.GridSearchCVM('KNN',knn,params_knn,X_train,X_test,y_train, y_test)"
   ]
  },
  {
   "cell_type": "markdown",
   "metadata": {},
   "source": [
    "# All Scores"
   ]
  },
  {
   "cell_type": "code",
   "execution_count": 57,
   "metadata": {},
   "outputs": [
    {
     "data": {
      "text/html": [
       "<div>\n",
       "<style scoped>\n",
       "    .dataframe tbody tr th:only-of-type {\n",
       "        vertical-align: middle;\n",
       "    }\n",
       "\n",
       "    .dataframe tbody tr th {\n",
       "        vertical-align: top;\n",
       "    }\n",
       "\n",
       "    .dataframe thead th {\n",
       "        text-align: right;\n",
       "    }\n",
       "</style>\n",
       "<table border=\"1\" class=\"dataframe\">\n",
       "  <thead>\n",
       "    <tr style=\"text-align: right;\">\n",
       "      <th></th>\n",
       "      <th>Train</th>\n",
       "      <th>Test</th>\n",
       "      <th>Tuned</th>\n",
       "    </tr>\n",
       "  </thead>\n",
       "  <tbody>\n",
       "    <tr>\n",
       "      <td>Logistic</td>\n",
       "      <td>0.910057</td>\n",
       "      <td>0.912541</td>\n",
       "      <td>0.929043</td>\n",
       "    </tr>\n",
       "    <tr>\n",
       "      <td>Decision Tree</td>\n",
       "      <td>1</td>\n",
       "      <td>0.925743</td>\n",
       "      <td>0.942244</td>\n",
       "    </tr>\n",
       "    <tr>\n",
       "      <td>Random Forest</td>\n",
       "      <td>0.994334</td>\n",
       "      <td>0.953795</td>\n",
       "      <td>0.952145</td>\n",
       "    </tr>\n",
       "    <tr>\n",
       "      <td>Neural Network</td>\n",
       "      <td>0.91289</td>\n",
       "      <td>0.915842</td>\n",
       "      <td>0.914191</td>\n",
       "    </tr>\n",
       "    <tr>\n",
       "      <td>SVM</td>\n",
       "      <td>1</td>\n",
       "      <td>0.914191</td>\n",
       "      <td>0.914191</td>\n",
       "    </tr>\n",
       "    <tr>\n",
       "      <td>BernoulliNB</td>\n",
       "      <td>0.905099</td>\n",
       "      <td>0.90429</td>\n",
       "      <td>0.90264</td>\n",
       "    </tr>\n",
       "    <tr>\n",
       "      <td>GaussianNB</td>\n",
       "      <td>0.899433</td>\n",
       "      <td>0.89934</td>\n",
       "      <td>0.843234</td>\n",
       "    </tr>\n",
       "    <tr>\n",
       "      <td>MultinomialNB</td>\n",
       "      <td>NaN</td>\n",
       "      <td>NaN</td>\n",
       "      <td>NaN</td>\n",
       "    </tr>\n",
       "    <tr>\n",
       "      <td>KNN</td>\n",
       "      <td>0.921388</td>\n",
       "      <td>0.914191</td>\n",
       "      <td>0.917492</td>\n",
       "    </tr>\n",
       "  </tbody>\n",
       "</table>\n",
       "</div>"
      ],
      "text/plain": [
       "                   Train      Test     Tuned\n",
       "Logistic        0.910057  0.912541  0.929043\n",
       "Decision Tree          1  0.925743  0.942244\n",
       "Random Forest   0.994334  0.953795  0.952145\n",
       "Neural Network   0.91289  0.915842  0.914191\n",
       "SVM                    1  0.914191  0.914191\n",
       "BernoulliNB     0.905099   0.90429   0.90264\n",
       "GaussianNB      0.899433   0.89934  0.843234\n",
       "MultinomialNB        NaN       NaN       NaN\n",
       "KNN             0.921388  0.914191  0.917492"
      ]
     },
     "execution_count": 57,
     "metadata": {},
     "output_type": "execute_result"
    }
   ],
   "source": [
    "g.AllScores()"
   ]
  },
  {
   "cell_type": "code",
   "execution_count": null,
   "metadata": {},
   "outputs": [],
   "source": []
  },
  {
   "cell_type": "code",
   "execution_count": null,
   "metadata": {},
   "outputs": [],
   "source": []
  }
 ],
 "metadata": {
  "kernelspec": {
   "display_name": "Python 3",
   "language": "python",
   "name": "python3"
  },
  "language_info": {
   "codemirror_mode": {
    "name": "ipython",
    "version": 3
   },
   "file_extension": ".py",
   "mimetype": "text/x-python",
   "name": "python",
   "nbconvert_exporter": "python",
   "pygments_lexer": "ipython3",
   "version": "3.6.9"
  }
 },
 "nbformat": 4,
 "nbformat_minor": 2
}
